{
 "cells": [
  {
   "attachments": {},
   "cell_type": "markdown",
   "metadata": {},
   "source": [
    "# cost of NLP model development"
   ]
  },
  {
   "attachments": {},
   "cell_type": "markdown",
   "metadata": {},
   "source": [
    "- create labelled dataset: expensive human labor\n",
    "\n",
    "- train model: computation (PFLOPs)\n",
    "\n",
    "- inference: user computation time (ms/example)"
   ]
  },
  {
   "attachments": {},
   "cell_type": "markdown",
   "metadata": {},
   "source": [
    "# Metrics"
   ]
  },
  {
   "cell_type": "markdown",
   "metadata": {},
   "source": [
    "## perplexity 困惑度"
   ]
  },
  {
   "cell_type": "markdown",
   "metadata": {},
   "source": [
    "**perplexity**\n",
    "\n",
    "- Perplexity measures how well a language model predicts a sequence of words by quantifying the **average number of choices (the number of equally likely choices ) the model has for each word in the sequence**.\n",
    "\n",
    "- the lower perplexity, the better the model: A lower perplexity means that the model is more certain about the next word in the sequence, because it assigns a higher probability to the correct word and lower probabilities to other words.\n",
    "\n",
    "**Definition**\n",
    "\n",
    "Perplexity of a language model parametrized by $\\theta$ is defined as n-power root of likelihood (joint probability) of a sequence of words $w_1, w_2, ..., w_N$ under such model\n",
    "\n",
    "$$\n",
    "\\text{Perplexity}(\\theta)=\\sqrt[n]{\\prod _{i=1}^N p_{\\theta} (w_i | w_{1:i-1})}\n",
    "$$\n",
    "\n",
    "where $p_{\\theta}(w_i | w_{1:i-1})$ represents conditional probability of observing word $w_i$ given the previous words $w_{1:i-1}$ (context), according to the language model parametrized by $\\theta$"
   ]
  },
  {
   "cell_type": "markdown",
   "metadata": {},
   "source": [
    "**interpretation**\n",
    "\n",
    "- log perplexity is Negative log likelihood\n",
    "\n",
    "    $$\n",
    "    \\log(\\text{Perplexity}(\\theta))=\\log \\left ( \\prod _{i=1}^N p_{\\theta} (w_i | w_{1:i-1}) \\right )^{-\\frac{1}{N}}=-\\frac{1}{N}\\log \\left ( \\prod _{i=1}^N p_{\\theta} (w_i | w_{1:i-1}) \\right )\n",
    "    $$\n",
    "\n",
    "- perplexity is exponential of average cross-entropy loss\n",
    "\n",
    "    $$\n",
    "    \\begin{aligned}\n",
    "    \\text{Perplexity}(\\theta) &= \\exp \\left[\\log(\\text{Perplexity}(\\theta))\\right]\\\\[1em]\n",
    "    &= \\exp\\left[-\\frac{1}{N}\\log \\left ( \\prod_{i=1}^N p_{\\theta} (w_i | w_{1:i-1}) \\right )\\right]\\\\[1em]\n",
    "    &= \\exp\\left[\\frac{1}{N}\\sum_{i=1}^N - \\log p_{\\theta} (w_i | w_{1:i-1})\\right]\n",
    "    \\end{aligned}\n",
    "    $$"
   ]
  },
  {
   "cell_type": "markdown",
   "metadata": {},
   "source": [
    "- e.g. if perplexity is 100, then model is as uncertain about the next word in a sequence as it would be if there were 100 equally likely words to pick from.\n",
    "\n",
    "$$\n",
    "\\text{perplexity}(\\theta)=\\left ( \\prod _{i=1}^{100} p_{\\theta} (w_i | w_{1:i-1}) \\right )^{-\\frac{1}{100}}=\\left ( \\left(\\frac{1}{100}\\right)^{100}  \\right )^{-\\frac{1}{100}}=100\n",
    "$$"
   ]
  },
  {
   "attachments": {},
   "cell_type": "markdown",
   "metadata": {},
   "source": [
    "## BLEU"
   ]
  },
  {
   "attachments": {},
   "cell_type": "markdown",
   "metadata": {},
   "source": [
    "BLEU (BiLingual Evaluation Understudy) score\n",
    "\n",
    "$$\n",
    "\\text{BLEU}=\\min(1, \\exp(1-\\frac{len(ref)}{len(pred)})) \\left(\\prod_{n=1}^4 \\text{n-gram precision}\\right)^{1/4}\n",
    "$$\n",
    "\n",
    "$\\min(1, \\exp(1-\\frac{len(ref)}{len(pred)}))$ is length penalty"
   ]
  },
  {
   "cell_type": "markdown",
   "metadata": {},
   "source": [
    "# language unit"
   ]
  },
  {
   "attachments": {},
   "cell_type": "markdown",
   "metadata": {},
   "source": [
    "character, word, sentence, paragraph, document\n",
    "\n",
    "Subword: A unit between character and word, representing meaningful parts or morphemes. Used to handle out-of-vocabulary words, morphologically rich languages, and improve generalization. Algorithms like BPE, WordPiece, and SentencePiece split words based on frequency.\n",
    "\n",
    "Token: A single unit in text, typically a word, subword, or character. Tokenization breaks text into smaller units called tokens.\n",
    "\n",
    "Gram: can be n-gram characters or n-gram tokens, E.g., bigram tokens in sentence \"I like cats.\" are \"I like\", \"like cats\" and \"cats.\"\n",
    "\n",
    "Segment: A continuous part of text divided by semantic or syntactic boundaries. Can be interchangeable with \"sentence\" or \"phrase\".\n",
    "\n",
    "Sentence: A grammatically complete sequence of words, typically separated by punctuation marks."
   ]
  },
  {
   "attachments": {},
   "cell_type": "markdown",
   "metadata": {},
   "source": [
    "# language model"
   ]
  },
  {
   "attachments": {},
   "cell_type": "markdown",
   "metadata": {},
   "source": [
    "## definition"
   ]
  },
  {
   "attachments": {},
   "cell_type": "markdown",
   "metadata": {},
   "source": [
    "- A language model is designed to assign  a probability distribution over a sequence of words, ahieved by modeling the conditional probability of a word given its preceding words (history) in the sequence.\n",
    "\n",
    "  $$\n",
    "  p(w_1,...,w_n)=p(w_1)p(w_2|w_1)...p(w_n|w_1,...,w_{n-1})\n",
    "  $$\n",
    "\n",
    "\n",
    "- As the length of the sequence (n) increases, the number of histories (possible unique sequences of words) grow exponentially as \n",
    "\n",
    "  $$|V|^{n-1}$$\n",
    "\n",
    "  where $|V|$ is vocabulary size\n",
    "\n",
    "\n",
    "-  total number of free parameters in the model for the last conditional probability is \n",
    "\n",
    "  $$(|V|-1)|V|^{n-1}$$\n",
    "\n",
    "\n",
    "- To reduce the num of params, we need to group histories"
   ]
  },
  {
   "attachments": {},
   "cell_type": "markdown",
   "metadata": {},
   "source": [
    "## Unigram, Bigram, Trigram"
   ]
  },
  {
   "attachments": {},
   "cell_type": "markdown",
   "metadata": {},
   "source": [
    "- let $\\pi_n: V^n \\rightarrow C$ be a mapping from word seq of length $n$ to a finite set $C$ (a context)\n",
    "\n",
    "\n",
    "- then language model becomes\n",
    "\n",
    "    $$\n",
    "    p(w_{n+1}|w_1,...,w_n)=p(w_{n+1}|\\pi_n(w_1,...,w_n))\n",
    "    $$\n",
    "\n",
    "\n",
    "- num of params is\n",
    "\n",
    "    $$\n",
    "    O(|V|\\cdot |C|)\n",
    "    $$\n",
    "\n",
    "    where $|C|$ is context window size"
   ]
  },
  {
   "attachments": {},
   "cell_type": "markdown",
   "metadata": {},
   "source": [
    "- unigrams: words are independent with each other, we don't listen to any history\n",
    "\n",
    "$$\n",
    "\\pi(w_1,...,w_n)=\\varnothing \n",
    "$$\n",
    "\n",
    "    \n",
    "\n",
    "- bigrams: only listen to the last word $w_n$\n",
    "\n",
    "$$\n",
    "\\pi(w_1,...,w_n)=w_n\n",
    "$$\n",
    "\n",
    "   \n",
    "- trigrams: only listen to the last 2 words $w_{n-1}, w_n$\n",
    "\n",
    "$$\n",
    "\\pi(w_1,...,w_n)=(w_{n-1}, w_n)\n",
    "$$\n",
    "\n",
    "    \n",
    "- num of prams grows as \n",
    "\n",
    "$$O(|V|), O(|V|^2), O(|V|^3)$$\n",
    "\n",
    "\n",
    "- num of prams in topics for LDA\n",
    "\n",
    "    $$\n",
    "    O(K \\cdot |V|)\n",
    "    $$\n",
    "\n",
    "    where $K$ is num of topics in a corpus"
   ]
  },
  {
   "attachments": {},
   "cell_type": "markdown",
   "metadata": {},
   "source": [
    "### estimate params"
   ]
  },
  {
   "cell_type": "markdown",
   "metadata": {},
   "source": [
    "- MLE: problematic\n",
    "\n",
    "\n",
    "- Bayesian - Dirichlet prior: often used"
   ]
  },
  {
   "cell_type": "markdown",
   "metadata": {},
   "source": [
    "### MLE"
   ]
  },
  {
   "attachments": {},
   "cell_type": "markdown",
   "metadata": {},
   "source": [
    "- the maximum likelihood estimate of a trigram model is\n",
    "\n",
    "$$\n",
    "\\hat p(w_3 | w_1, w_2) =\\frac{p(w_1,w_2,w_3)}{p(w_1,w_2)}= \\frac{\\frac{\\text{count}(w_1,w_2,w_3)}{ \\#trigram}}{\\frac{\\text{count}(w_1,w_2)}{\\# bigram}} \\approx\\frac{\\text{count}(w_1,w_2,w_3)}{\\text{count}(w_1,w_2)}\n",
    "$$\n",
    "\n",
    "\n",
    "- problem: in training set, word 1, 2, 3 may not occur together, which leads to $\\text{count}(w_1,w_2,w_3)=0$\n",
    "    \n",
    "\n",
    "- probabilities need to be **\"smoothed\"** to avoid zeros"
   ]
  },
  {
   "cell_type": "markdown",
   "metadata": {},
   "source": [
    "### Bayesian: Dirichlet prior"
   ]
  },
  {
   "attachments": {},
   "cell_type": "markdown",
   "metadata": {},
   "source": [
    "$\\eta \\in (-3, 10)$ is added weight\n",
    "\n",
    "$$\n",
    "\\hat p(w_3 | w_1, w_2) \\propto \\text{count}(w_1,w_2,w_3) + \\eta\n",
    "$$"
   ]
  },
  {
   "attachments": {},
   "cell_type": "markdown",
   "metadata": {},
   "source": [
    "## mixture model"
   ]
  },
  {
   "attachments": {},
   "cell_type": "markdown",
   "metadata": {},
   "source": [
    "a mixture model:  \n",
    "\n",
    "$$\n",
    "\\begin{align}\n",
    "p(w_3 | w_1, w_2) \n",
    "&=\\text{trigram model + bigram model + unigram model} \\\\[1em]\n",
    "&= \\lambda _3 \\hat p(w_3 | w_1, w_2)  + \\lambda _2 \\hat p(w_3 | w_2) +\\lambda _1 \\hat p(w_3 ) \\\\[1em]\n",
    "\\end{align}\n",
    "$$\n",
    "\n",
    "\n",
    "where $\\lambda_i$ is weight for model $i$"
   ]
  },
  {
   "cell_type": "markdown",
   "metadata": {},
   "source": [
    "# class-based bigram model"
   ]
  },
  {
   "attachments": {},
   "cell_type": "markdown",
   "metadata": {},
   "source": [
    "grouping words into **classes** and estimating the **class-based model** gives meaningful clusters"
   ]
  },
  {
   "attachments": {},
   "cell_type": "markdown",
   "metadata": {},
   "source": [
    "model:\n",
    "\n",
    "$$\n",
    "p(w_2 | w_1) = p(\\text{class}(w_2)|\\text{class}(w_1)) p(w_2|\\text{class}(w_2))=p(c_2|c_1)p(w_2|c_2)\n",
    "$$\n",
    "\n",
    "where $c_i$ is class (topic) for word $w_i$\n"
   ]
  },
  {
   "attachments": {},
   "cell_type": "markdown",
   "metadata": {},
   "source": [
    "- use bottom-up agglomerative clustering to group words\n",
    "\n",
    "\n",
    "- bigram model gives highest likelihood (no grouping)\n",
    "\n",
    "\n",
    "- each step: merge the pair of classes that decrease likelihood (perplexity) of the data least\n",
    "    "
   ]
  },
  {
   "cell_type": "markdown",
   "metadata": {},
   "source": [
    "# Semantics is study of meaning"
   ]
  },
  {
   "cell_type": "markdown",
   "metadata": {},
   "source": [
    "# What's *meaning*?"
   ]
  },
  {
   "cell_type": "markdown",
   "metadata": {},
   "source": [
    "- Leonard Bloomfield: Yale professor of Structuralism Linguistics\n",
    "\n",
    "    view: words have a **precise and technical** meaning that can only be uncovered by **experts** through careful study, ordinary people can't know true meaning of words"
   ]
  },
  {
   "cell_type": "markdown",
   "metadata": {},
   "source": [
    "# Ontologies"
   ]
  },
  {
   "cell_type": "markdown",
   "metadata": {},
   "source": [
    "- ontologies implement Bloomfield's idea of meaning\n",
    "\n",
    "    a huge database that contains everything a typical person might know in a **machine-readable** format"
   ]
  },
  {
   "cell_type": "markdown",
   "metadata": {},
   "source": [
    "- e.g.\n",
    "\n",
    "    - WordNet: a database that contains relationships between different word meanings\n",
    "\n",
    "    - Amazon Alexa: ontology objects convert natural-language requests into an abstract representation of what the user wants Alex to do"
   ]
  },
  {
   "cell_type": "markdown",
   "metadata": {},
   "source": [
    "# Geometry of words"
   ]
  },
  {
   "cell_type": "markdown",
   "metadata": {},
   "source": [
    "## Feature Spaces"
   ]
  },
  {
   "cell_type": "code",
   "execution_count": null,
   "metadata": {},
   "outputs": [],
   "source": [
    "# define following 4 kinds of pizza vectors. \n",
    "# feature: 13 kinds of toppings\n",
    "import numpy as np\n",
    "# white pie with meatballs\n",
    "p = np.array([0, 1, 0, 0, 0, 0, 0, 0, 1, 1, 0, 0, 0])\n",
    "\n",
    "# plain white pie\n",
    "q = np.array([0, 1, 0, 0, 0, 0, 0, 0, 0, 1, 0, 0, 0])\n",
    "\n",
    "# red pie with meatballs\n",
    "r = np.array([0, 1, 0, 0, 0, 0, 0, 0, 1, 0, 0, 0, 0])\n",
    "\n",
    "# pain red pie\n",
    "s = np.array([0, 1, 0, 0, 0, 0, 0, 0, 0, 0, 0, 0, 0])"
   ]
  },
  {
   "cell_type": "markdown",
   "metadata": {},
   "source": [
    "Addition\n",
    "\n",
    "$$\\mathbf{p} + \\mathbf{q}$$"
   ]
  },
  {
   "cell_type": "code",
   "execution_count": null,
   "metadata": {},
   "outputs": [
    {
     "data": {
      "text/plain": [
       "array([0, 2, 0, 0, 0, 0, 0, 0, 1, 2, 0, 0, 0])"
      ]
     },
     "metadata": {},
     "output_type": "display_data"
    }
   ],
   "source": [
    "p + q # addition of toppings of 2 pizzas"
   ]
  },
  {
   "cell_type": "markdown",
   "metadata": {},
   "source": [
    "Hadamard product \n",
    "\n",
    "$$\\mathbf{p} \\odot \\mathbf{q}$$"
   ]
  },
  {
   "cell_type": "code",
   "execution_count": null,
   "metadata": {},
   "outputs": [
    {
     "data": {
      "text/plain": [
       "array([0, 1, 0, 0, 0, 0, 0, 0, 0, 1, 0, 0, 0])"
      ]
     },
     "metadata": {},
     "output_type": "display_data"
    }
   ],
   "source": [
    "p * q # intersection of toppings of 2 pizzas"
   ]
  },
  {
   "cell_type": "markdown",
   "metadata": {},
   "source": [
    "$$\\text{max}(\\mathbf{p}, \\mathbf{q})$$"
   ]
  },
  {
   "cell_type": "code",
   "execution_count": null,
   "metadata": {},
   "outputs": [
    {
     "data": {
      "text/plain": [
       "array([0, 1, 0, 0, 0, 0, 0, 0, 1, 1, 0, 0, 0])"
      ]
     },
     "metadata": {},
     "output_type": "display_data"
    }
   ],
   "source": [
    "np.maximum(p, q) # union of toppings of 2 pizzas"
   ]
  },
  {
   "cell_type": "markdown",
   "metadata": {},
   "source": [
    "Dot product\n",
    "\n",
    "$$\\mathbf{p} \\cdot \\mathbf{q}=\\mathbf{p}^T \\mathbf{q}$$"
   ]
  },
  {
   "cell_type": "code",
   "execution_count": null,
   "metadata": {},
   "outputs": [
    {
     "data": {
      "text/plain": [
       "2"
      ]
     },
     "metadata": {},
     "output_type": "display_data"
    }
   ],
   "source": [
    "p@q # number of overlap toppings of 2 pizzas\n"
   ]
  },
  {
   "cell_type": "markdown",
   "metadata": {},
   "source": [
    "Subtraction\n",
    "\n",
    "$$\\mathbf{p} - \\mathbf{q}$$"
   ]
  },
  {
   "cell_type": "code",
   "execution_count": null,
   "metadata": {},
   "outputs": [
    {
     "data": {
      "text/plain": [
       "array([0, 0, 0, 0, 0, 0, 0, 0, 1, 0, 0, 0, 0])"
      ]
     },
     "metadata": {},
     "output_type": "display_data"
    }
   ],
   "source": [
    "p-q "
   ]
  },
  {
   "cell_type": "markdown",
   "metadata": {},
   "source": [
    "- meaning of subtraction\n",
    "\n",
    "    some elements of resulting vector after subtraction may be -1\n",
    "\n",
    "    you may think it doesn't make sense for a pizza having -1 units of topping,\n",
    "    \n",
    "    but subtraction can describe **analogies**"
   ]
  },
  {
   "cell_type": "markdown",
   "metadata": {},
   "source": [
    "- in NLP, often rewrite equation to be \n",
    "\n",
    "    $$\\mathbf{p} - \\mathbf{q} + \\mathbf{s} = \\mathbf{r}$$\n",
    "\n",
    "    vector $- \\mathbf{q} + \\mathbf{s} $ represents the operation of replacing the properties of a plain white pie ($\\mathbf{q}$) with those of a plain red pie ($\\mathbf{s}$)\n",
    "\n",
    "    white pie with meatballs VS. plain white pie  = red pie with meatballs VS. plain red pie"
   ]
  },
  {
   "cell_type": "code",
   "execution_count": null,
   "metadata": {},
   "outputs": [
    {
     "data": {
      "text/plain": [
       "array([ True,  True,  True,  True,  True,  True,  True,  True,  True,\n",
       "        True,  True,  True,  True])"
      ]
     },
     "metadata": {},
     "output_type": "display_data"
    }
   ],
   "source": [
    "np.isclose(p-q+s, r)"
   ]
  },
  {
   "cell_type": "markdown",
   "metadata": {},
   "source": [
    "## PCA: Dimensionality Reduction"
   ]
  },
  {
   "cell_type": "markdown",
   "metadata": {},
   "source": [
    "- use PCA to embed pizza vectors from $\\mathbb{R}^{13}$ into $\\mathbb{R}^2$\n",
    "\n",
    "\n",
    "- this embedding is approximately **isometric** w.r.t. absolute value of cosine distance and Euclidean distance\n",
    "    \n",
    "    \n",
    "- the closer 2 pizzas appear to one another in the plot,\n",
    "\n",
    "    the greater their cosine similarity\n",
    "        \n",
    "        \n",
    "- Note: the 2 axes have no particular interpretation, \n",
    "    \n",
    "    coz they're both hidden/latent variables, \n",
    "        \n",
    "    so the actual coordinate values don't mean anything,\n",
    "    \n",
    "    the only important thing is **distance between points**"
   ]
  },
  {
   "cell_type": "code",
   "execution_count": null,
   "metadata": {},
   "outputs": [],
   "source": [
    "# install Sklean in silent mode and automatically say yes\n",
    "# !yes|pip install -U scikit-learn -q\n",
    "import numpy as np\n",
    "from sklearn.decomposition import PCA\n",
    "import matplotlib.pyplot as plt \n",
    "import pandas as pd "
   ]
  },
  {
   "cell_type": "code",
   "execution_count": null,
   "metadata": {},
   "outputs": [
    {
     "data": {
      "image/png": "[encoded data removed]",
      "text/plain": [
       "<Figure size 432x288 with 1 Axes>"
      ]
     },
     "metadata": {},
     "output_type": "display_data"
    }
   ],
   "source": [
    "# create pizza matrix P\n",
    "row_idx = ['White Clam Pizza', 'Original Tomato Pie', 'Margherita', 'Fresh Tomato Pie', 'Meatball & Ricotta']\n",
    "p = np.array([\n",
    "    [0, 0, 0, 1, 0, 0, 1, 1, 0, 0, 1, 1, 0],\n",
    "    [0, 1, 0, 0, 0, 0, 0, 1, 0, 0, 1, 0, 0],\n",
    "    [0, 1, 1, 0, 1, 0, 0, 1, 0, 0, 1, 0, 0],\n",
    "    [1, 0, 0, 0, 0, 1, 1, 1, 0, 1, 1, 0, 0],\n",
    "    [0, 1, 0, 0, 0, 0, 0, 1, 1, 1, 1, 0, 1]])\n",
    "\n",
    "df = pd.DataFrame(data=p, index=row_idx)\n",
    "\n",
    "# create a PCA with Number of components to keep 2\n",
    "pca = PCA(n_components=2)\n",
    "\n",
    "# get 2D embedding of pizza matrix\n",
    "embedded = pca.fit_transform(df)\n",
    "\n",
    "fig = plt.figure()\n",
    "ax = fig.add_subplot(1, 1, 1)\n",
    "\n",
    "# create a scatter plot for PCA-embedded pizza vectors\n",
    "ax.scatter(embedded[:,0], embedded[:,1])\n",
    "\n",
    "# Move left y-axis and bottom x-axis to centre, passing through (0,0)\n",
    "ax.spines['left'].set_position('zero')\n",
    "ax.spines['bottom'].set_position('zero')\n",
    "\n",
    "# Eliminate upper and right axes\n",
    "ax.spines['right'].set_color('none')\n",
    "ax.spines['top'].set_color('none')\n",
    "\n",
    "\n",
    "\n",
    "# annotate all the points in the scatterplot using their row index\n",
    "for i, label in enumerate(row_idx):\n",
    "    ax.annotate(label, (embedded[i, 0], embedded[i, 1]), (embedded[i, 0]-0.2, embedded[i, 1]-0.2), fontsize=10)\n",
    "\n",
    "plt.title(\"Frank Pepe Pizzas by PCA\")\n",
    "plt.xlabel(\"PCA1\", x=1)\n",
    "plt.ylabel(\"PCA2\", y=0)\n",
    "plt.show()\n"
   ]
  },
  {
   "cell_type": "markdown",
   "metadata": {},
   "source": [
    "- call `components_` attribute to see the 2 principal components used by PCA object `pca`"
   ]
  },
  {
   "cell_type": "code",
   "execution_count": null,
   "metadata": {},
   "outputs": [
    {
     "data": {
      "text/plain": [
       "array([[ 0.28534923, -0.52316423, -0.22554482,  0.23781501, -0.22554482,\n",
       "         0.28534923,  0.52316423, -0.        , -0.17801059,  0.10733863,\n",
       "        -0.        ,  0.23781501, -0.17801059],\n",
       "       [ 0.25736834,  0.04375923, -0.2192067 , -0.30112757, -0.2192067 ,\n",
       "         0.25736834, -0.04375923,  0.        ,  0.33928921,  0.59665754,\n",
       "         0.        , -0.30112757,  0.33928921]])"
      ]
     },
     "metadata": {},
     "output_type": "display_data"
    }
   ],
   "source": [
    "pca.components_"
   ]
  },
  {
   "cell_type": "code",
   "execution_count": null,
   "metadata": {},
   "outputs": [
    {
     "data": {
      "text/plain": [
       "array([1., 1.])"
      ]
     },
     "metadata": {},
     "output_type": "display_data"
    }
   ],
   "source": [
    "# verify these 2 directions are both unit vextors\n",
    "np.linalg.norm(pca.components_, axis=1)"
   ]
  }
 ],
 "metadata": {
  "hide_input": false,
  "kernelspec": {
   "display_name": "d2l",
   "language": "python",
   "name": "python3"
  },
  "language_info": {
   "codemirror_mode": {
    "name": "ipython",
    "version": 3
   },
   "file_extension": ".py",
   "mimetype": "text/x-python",
   "name": "python",
   "nbconvert_exporter": "python",
   "pygments_lexer": "ipython3",
   "version": "3.8.10 (default, May 19 2021, 11:01:55) \n[Clang 10.0.0 ]"
  },
  "toc": {
   "base_numbering": 1,
   "nav_menu": {},
   "number_sections": true,
   "sideBar": true,
   "skip_h1_title": false,
   "title_cell": "Table of Contents",
   "title_sidebar": "Contents",
   "toc_cell": false,
   "toc_position": {},
   "toc_section_display": true,
   "toc_window_display": true
  },
  "varInspector": {
   "cols": {
    "lenName": 16,
    "lenType": 16,
    "lenVar": 40
   },
   "kernels_config": {
    "python": {
     "delete_cmd_postfix": "",
     "delete_cmd_prefix": "del ",
     "library": "var_list.py",
     "varRefreshCmd": "print(var_dic_list())"
    },
    "r": {
     "delete_cmd_postfix": ") ",
     "delete_cmd_prefix": "rm(",
     "library": "var_list.r",
     "varRefreshCmd": "cat(var_dic_list()) "
    }
   },
   "types_to_exclude": [
    "module",
    "function",
    "builtin_function_or_method",
    "instance",
    "_Feature"
   ],
   "window_display": false
  },
  "vscode": {
   "interpreter": {
    "hash": "15a162aef56c374f20e075fbc4add75b55bd097c903a763d3b0c4cccda1c0caf"
   }
  }
 },
 "nbformat": 4,
 "nbformat_minor": 4
}
