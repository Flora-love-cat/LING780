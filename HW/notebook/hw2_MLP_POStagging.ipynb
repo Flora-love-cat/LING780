{
 "cells": [
  {
   "attachments": {},
   "cell_type": "markdown",
   "id": "282a8c48",
   "metadata": {},
   "source": [
    "# Assignment 2 MLP and POS Tagging"
   ]
  },
  {
   "cell_type": "markdown",
   "id": "d943a720",
   "metadata": {},
   "source": [
    "- in this HW, you will build a part of speech (POS) tagger\n",
    "\n",
    "    a model that assigns parts of speech, i.e., grammatical categories like \"noun\" and \"verb\" to words in a text\n",
    "\n",
    "\n",
    "- by training a NN that takes a word as input (with or without its surrounding context) and then predicts the part of speech of that word\n",
    "\n",
    "\n",
    "- for many words, the assignment of POS is straight forward:\n",
    "\n",
    "    the word `bird` is always a noun,\n",
    "    \n",
    "    while the word `annoy` is always a verb\n",
    "    \n",
    "    however, there are also cases of POS ambiguity: `break` can be either a noun or verb, depending on context\n",
    "    \n",
    "    "
   ]
  },
  {
   "cell_type": "markdown",
   "id": "5ec8c1df",
   "metadata": {},
   "source": [
    "- you are provided with an incomplete NumPy implementation of a multi-layer perceptron\n",
    "\n",
    "\n",
    "- you need to complete the codebase, including\n",
    "\n",
    "    - forward and backward passes for different types of network objects \n",
    "    \n",
    "    - core of SGD algo\n",
    "\n",
    "\n",
    "- you don't need to write many codes, but think carefully for each line\n",
    "\n",
    "\n",
    "- e.g., derive array-based math expressions before implementing them in NumPy"
   ]
  },
  {
   "cell_type": "markdown",
   "id": "cf1a0b8d",
   "metadata": {},
   "source": [
    "- after complete implementation of NN, \n",
    "\n",
    "    you will run experiments to analyze the representations learned by your NN"
   ]
  },
  {
   "cell_type": "markdown",
   "id": "b794dd0a",
   "metadata": {},
   "source": [
    "# model implementation"
   ]
  },
  {
   "cell_type": "markdown",
   "id": "68f445ee",
   "metadata": {},
   "source": [
    "- implement POS tagger as a MLP"
   ]
  },
  {
   "cell_type": "markdown",
   "id": "b7e45a85",
   "metadata": {},
   "source": [
    "## installation"
   ]
  },
  {
   "cell_type": "markdown",
   "id": "bf52faf1",
   "metadata": {},
   "source": [
    "- Package: NumPy, PyConll\n",
    "\n",
    "\n",
    "-  PyConll: provides an interface for reading CoNLL-X file\n",
    "\n",
    "    CoNLL-X file: a common file format used in NLP\n",
    "    \n",
    "    represents natural language sentences where each token is annotated with grammatical properties, including its POS tag."
   ]
  },
  {
   "cell_type": "code",
   "execution_count": 2,
   "id": "fc26393c",
   "metadata": {
    "ExecuteTime": {
     "end_time": "2021-10-26T01:04:53.513019Z",
     "start_time": "2021-10-26T00:04:08.984625Z"
    }
   },
   "outputs": [
    {
     "name": "stdout",
     "output_type": "stream",
     "text": [
      "^C\r\n"
     ]
    }
   ],
   "source": [
    "!yes|pip install pyconll -q "
   ]
  },
  {
   "cell_type": "markdown",
   "id": "c7906c95",
   "metadata": {},
   "source": [
    "## task specification and network architecture"
   ]
  },
  {
   "attachments": {},
   "cell_type": "markdown",
   "id": "cd8e3876",
   "metadata": {},
   "source": [
    "- POS tagging task: Multinomial Classification. classify the middle token $w_0$ into one of following 17 possible POS, defined by Universal Dependencies project\n",
    "\n",
    "- input: an n-gram, where n is odd and $k=(n-1)/2$\n",
    "\n",
    "    $$\n",
    "    w = w_{-k}\\ w_{-k+1}\\ ...\\ w_{-1}\\ w_{0}\\ w_{1}\\ w_{2}\\ ...\\ w_{k}\n",
    "    $$"
   ]
  },
  {
   "cell_type": "markdown",
   "id": "f237a78f",
   "metadata": {},
   "source": [
    "- figure 1 is architecture of NN POS tagger you will implement for this task\n",
    "\n",
    "\n",
    "- the net consists of an embedding layer, an output layer and a variable number of hidden layers determined by hyperparameter h\n",
    "\n",
    "\n",
    "different parts of the model\n",
    "\n",
    "- input representation\n",
    "\n",
    "    input: mini-batch of n-grams, a 2D array of shape (batch_size, n)\n",
    "    \n",
    "    each row (set of entries along dim 0) of the array represents an n-gram\n",
    "    \n",
    "    each column (set of entries along dim 1) represents all $w_is$ in the batch for some position i where $-k \\leq i \\leq k$\n",
    "    \n",
    "    entries of matrix are indices: integers that represent one of the possible tokens in the vocabulary, including `[UNK]`, `[BOS]`, `[EOS]` tokens\n",
    "    \n",
    "    \n",
    "- embedding layer\n",
    "\n",
    "    input: a batch of indices\n",
    "    \n",
    "    output: a 3D array of shape (batch_size, n, embedding_size), replace each index with its corresponding word embedding vector\n",
    "    \n",
    "    embedding layer is parameterized by a word embedding matrix of shape (vocabulary_size, embedding_size)\n"
   ]
  },
  {
   "attachments": {},
   "cell_type": "markdown",
   "id": "ceb836f6",
   "metadata": {},
   "source": [
    "- hidden layers\n",
    "\n",
    "    each hidden layer: a linear layer followed by a tanh activation function\n",
    "    \n",
    "    output of hidden layer: a 2D array of shape (batch_size, hidden_size), a batch of vectors called **hidden representations**\n",
    "    \n",
    "    hidden size is a hyperparameter\n",
    "    \n",
    "    hidden representations are latent features computed by the net: we don't know what they represent or how to interpret them\n",
    "    \n",
    "    input of 1st hidden layer: a 2D array of shape (batch_size, $n \\times$ embedding_size), contains output of Embedding layer - all the embeddings in the mini-batch **concatenated** together\n",
    "    \n",
    "    input of other hidden layers: a 2D array of shape (batch_size, hidden_size), contains outputs of previous hidden layers.\n",
    "  "
   ]
  },
  {
   "cell_type": "markdown",
   "id": "05c28b43",
   "metadata": {},
   "source": [
    "- output layer\n",
    "\n",
    "    final layer of the net\n",
    "    \n",
    "    only has a linear layer\n",
    "    \n",
    "    for computational efficiency, we exclude softmax activation function from output layer,\n",
    "    \n",
    "    instead use softmax as part of **cross-entropy loss** function\n",
    "    \n",
    "    output of output layer: a 2D array of shape (batch_size, 17), contains cofidence scores assigned by model to each of 17 possible POS tags\n",
    "    \n",
    "    these scores are on the **logit scale**: means softmax of these scores is a probability distribution over possible POS tags\n",
    "    \n",
    "    each row of output: interpret column contains **highest confidence score** to represent the predicted POS tag for the corresponding item in mini-batch"
   ]
  },
  {
   "attachments": {},
   "cell_type": "markdown",
   "id": "5f5f6d85",
   "metadata": {},
   "source": [
    "**Hyperparameters**\n",
    "\n",
    "- vocabulary size: 100 (vocabulary contains 100 words)\n",
    "    \n",
    "- length of n-grams (context window size): n=3  (k=1)\n",
    "    \n",
    "- embedding size: 50\n",
    "    \n",
    "- hidden size: 16\n",
    "    \n",
    "- number of hidden layers: h=1"
   ]
  },
  {
   "cell_type": "markdown",
   "id": "83f8c961",
   "metadata": {},
   "source": [
    "### Problem 1"
   ]
  },
  {
   "attachments": {},
   "cell_type": "markdown",
   "id": "c29b606e",
   "metadata": {},
   "source": [
    "- how many trainable params does NN have?\n",
    "\n",
    "    i.e. how many array entires are there among the embedding matrix as well as the weight matrix and bias vector for all the hidden layers and the output layer?\n",
    "    \n",
    "    500 + 2,400 + 16 + 272 + 17 = 3205 params\n",
    "\n",
    "    Embedding layer: \n",
    "    \n",
    "    The number of entries in the embedding matrix: vacabulary size x embedding size = 100 x 50 = 500\n",
    "    \n",
    "    Hidden layer:\n",
    "\n",
    "    The number of entries in weight matrix for hidden layers: length of n-gram x embedding size x hidden size = 3 x 50 x 16 = 2400\n",
    "    \n",
    "    The number of entries in bias vector for hidden layers hidden_size = 16\n",
    "    \n",
    "    Output layer:\n",
    "\n",
    "    The number of entries in weight matrix for output layer: hidden size x number of POS classes = hidden_size x 17 = 16 x 17 = 272\n",
    "    \n",
    "    The number of entries in bias vector for output layer: number of POS classes = 17\n",
    "\n",
    "\n",
    "- which part of the net has the most params?\n",
    "\n",
    "    hidden layer has the most params: 2400+16=2416"
   ]
  },
  {
   "cell_type": "markdown",
   "id": "f2eb02fd",
   "metadata": {},
   "source": [
    "## starter code"
   ]
  },
  {
   "cell_type": "markdown",
   "id": "5b756114",
   "metadata": {},
   "source": [
    "- `data` file\n",
    "\n",
    "    - `en_ewt-ud-train.conllu`\n",
    "    \n",
    "    - `en_ewt-ud-dev.conllu`\n",
    "    \n",
    "    - `en_ewt-ud-test.conllu`\n",
    "    \n",
    "    - `glove_embeddings.txt`\n",
    "    \n",
    "    - `unambiguous_pos_tags.csv`\n",
    "\n",
    "\n",
    "- `data_loader.py`\n",
    "\n",
    "- `layers.py`\n",
    "\n",
    "- `loss.py`\n",
    "\n",
    "- `metrics.py`\n",
    "\n",
    "- `model.py`\n",
    "\n",
    "- `train.py`"
   ]
  },
  {
   "cell_type": "markdown",
   "id": "f4cd1c91",
   "metadata": {},
   "source": [
    "- 3 `.conllu` files contain the sentences used for training, validating, testing our POS tagger\n",
    "\n",
    "    dataset files are in CoNLL-U format, a variant of CoNLL-X\n",
    "\n",
    "\n",
    "- `glove_embeddings.txt` is similar to `word2vec_embedding.txt` from HW1,\n",
    "\n",
    "    except the word embeddings are trained using GloVe model instead of word2vec model\n",
    "    \n",
    "\n",
    "- `unambiguous_pos_tag.csv` will be used in Part 2 Analysis\n",
    "\n",
    "\n",
    "- `.py` files are Python modules can be used by\n",
    "\n",
    "    `from` module_name `import` function_name\n",
    "    \n",
    "    Note: module_name don't contain `.py` extension\n",
    "    \n",
    "    a collection of modules within a folder is a package"
   ]
  },
  {
   "cell_type": "markdown",
   "id": "8c2930a8",
   "metadata": {},
   "source": [
    "### modules belong to 3 functional categories:"
   ]
  },
  {
   "cell_type": "markdown",
   "id": "747b88e2",
   "metadata": {},
   "source": [
    "#### Data Interface"
   ]
  },
  {
   "cell_type": "markdown",
   "id": "4c0fa723",
   "metadata": {},
   "source": [
    "\n",
    "\n",
    "- Data Interface: `data_loader` module\n",
    "    \n",
    "   - contains function that read CoNLL-X files and convert them into Python data structure that you will use in other parts\n",
    "    \n",
    "   - `load_embeddings` function: loads GloVe embeddings from `glove_embeddings.txt` file, save in binary format as a Pickle file; 2nd time it runs, loads the binary file more quickly\n",
    "    \n",
    "   - 2 classes\n",
    "   \n",
    "       - `data_loader.Vocabulary`: `Vocabulary` class is a collection of possible tokens and a mapping of each token form to **index** (a unique numerical identifier)\n",
    "       \n",
    "       you need to create 2 `Vocabulary` objects in this hw: 1) represents possible tokens in the text 2) represents possible POS tags\n",
    "       \n",
    "       - `data_loader.Dataset`: `Dataset` class is a collection of n-grams, where n is odd, labeled with POS tag of the token in the middle.\n",
    "       \n",
    "       `from_conll` function: load data from a CoNNL-X file and convert it into NumPy arrays. like `load_embeddings` function, it will store binary version of data which will be loaded more quickly on subsequent calls\n",
    "       \n",
    "       `get_batches` function: divide the data into mini-batches\n",
    "       "
   ]
  },
  {
   "cell_type": "markdown",
   "id": "60a68f01",
   "metadata": {},
   "source": [
    "#### Neural Network Components"
   ]
  },
  {
   "cell_type": "markdown",
   "id": "f4d1bba9",
   "metadata": {},
   "source": [
    "- `layers`: \n",
    "\n",
    "    contains 3 classes for 3 types of network layers: `Embedding, Linear, Tanh`\n",
    "    \n",
    "    you need to complete forward and backward computations in 3 classes\n",
    "\n",
    "\n",
    "- `model`\n",
    "\n",
    "    contain `MultiLayerPerceptron` class: represent full NN you will train\n",
    "        \n",
    "    an object of `MultiLayerPerceptron` class contains objects of various layer types, which are assembled into the model architecture.\n",
    "        \n",
    "    `forward` and `backward` methods perform the forward and backward computations for each layer in appropriate order\n",
    "\n",
    "\n",
    "- `loss`\n",
    "\n",
    "    combines softmax activation function of NN with cross-entropy loss\n",
    "    \n",
    "    you will find that implement them together is more efficient than separately\n",
    "    \n",
    "    you need to complete backward computation of this combined softmax-loss function unit"
   ]
  },
  {
   "attachments": {},
   "cell_type": "markdown",
   "id": "bb7b9f16",
   "metadata": {},
   "source": [
    "- `layers.Layer` class is the heart of these 3 classes\n",
    "\n",
    "    an abstract class that represents NN layers\n",
    "    \n",
    "    `clear_grad` function: reset gradients to 0\n",
    "    \n",
    "    `update` function: update params during SGD\n",
    "    \n",
    "    each subclass of `Layer` must implement a `forward` function and a `backward` function\n",
    "    \n",
    "    constructore `__int__` method of each `Layer` subclass must declare its params and place them within the `params` dict\n",
    "    \n",
    "    `Layer` objects can be called as functions: has effect of calling `forward` function while saving the input to forward"
   ]
  },
  {
   "cell_type": "code",
   "execution_count": 18,
   "id": "737c26e9",
   "metadata": {
    "ExecuteTime": {
     "end_time": "2021-10-26T11:28:30.796464Z",
     "start_time": "2021-10-26T11:28:30.787343Z"
    }
   },
   "outputs": [
    {
     "name": "stdout",
     "output_type": "stream",
     "text": [
      "None\n",
      "[[0.4624437  0.56261365]\n",
      " [0.64861945 0.04784365]\n",
      " [0.68551794 0.67131176]\n",
      " [0.52889726 0.34930681]\n",
      " [0.8707156  0.00556034]]\n"
     ]
    }
   ],
   "source": [
    "import numpy as np\n",
    "from layers import Linear \n",
    "\n",
    "linear = Linear(2,3)\n",
    "\n",
    "x = np.random.rand(5,2)\n",
    "\n",
    "# calls linear.forward\n",
    "print(linear(x)) \n",
    "\n",
    "# stored layer input\n",
    "print(linear.x) "
   ]
  },
  {
   "cell_type": "markdown",
   "id": "fda6084b",
   "metadata": {},
   "source": [
    "- when working with `Layers`, you should always run the forward pass by calling the `Layer` object, rather than call `forward` function directly\n",
    "\n",
    "\n",
    "- `model.MultiLayerPerceptron` and `loss.CrossEntropySoftmaxLoss` are also subclasses of `layers.Layer`,\n",
    "\n",
    "    though they represent objects that aren't typically NN layers\n",
    "    \n",
    "    reason: both classes can be included in a computation graph, require a forward and backward implementation, making them compatible with `Layer` interface"
   ]
  },
  {
   "cell_type": "markdown",
   "id": "5a6cd484",
   "metadata": {},
   "source": [
    "#### training and evaluation code"
   ]
  },
  {
   "cell_type": "markdown",
   "id": "d9099a86",
   "metadata": {},
   "source": [
    "remaining modules are used for training, validating, testing a POS tagger"
   ]
  },
  {
   "cell_type": "markdown",
   "id": "beca0748",
   "metadata": {},
   "source": [
    "- `train`\n",
    "\n",
    "    contains functions to train and test your net\n",
    "    \n",
    "    below `if __name__ == \"__main__\"`, also contains a Python script that can be called from the command line\n",
    "    \n",
    "    doing so will train a network using SGD with one particular configuration of hyperparams and test the performance with the best validation accuracy\n",
    "\n",
    "\n",
    "- `metrics`\n",
    "\n",
    "    assessment of average loss and accuracy, which will be used during training"
   ]
  },
  {
   "cell_type": "markdown",
   "id": "86101fc5",
   "metadata": {},
   "source": [
    "## forward computations"
   ]
  },
  {
   "cell_type": "markdown",
   "id": "8d4987bb",
   "metadata": {},
   "source": [
    "- in this part, you will implement forward pass for the `layers.Tanh` activation function and `layers.Linear` layer\n",
    "\n",
    "\n",
    "- forward pass for the `layers.Embedding` layer and `model.MultiLayerPerceptron` model has already been implemented"
   ]
  },
  {
   "cell_type": "markdown",
   "id": "b32fd42d",
   "metadata": {},
   "source": [
    "### problem 2"
   ]
  },
  {
   "cell_type": "markdown",
   "id": "1154d984",
   "metadata": {},
   "source": [
    "- implement forward pass for the `layers.Tanh` activation function\n",
    "\n",
    "\n",
    "- use `np.tanh` function for forward pass"
   ]
  },
  {
   "cell_type": "code",
   "execution_count": null,
   "id": "4c9cfb96",
   "metadata": {},
   "outputs": [],
   "source": [
    "def forward(self, x: np.ndarray) -> np.ndarray:\n",
    "    \"\"\"\n",
    "    Problem 2: Apply the tanh function to the input. You may add\n",
    "    code to the __init__ method if you would like.\n",
    "\n",
    "    :param x: An input to tanh. Shape: any shape\n",
    "    :return: The tanh of x. Shape: the same shape as x\n",
    "    \"\"\"\n",
    "    self.x = x \n",
    "    return np.tanh(x) "
   ]
  },
  {
   "cell_type": "markdown",
   "id": "c3f4c6b0",
   "metadata": {},
   "source": [
    "### problem 3"
   ]
  },
  {
   "cell_type": "markdown",
   "id": "1f48bee9",
   "metadata": {},
   "source": [
    "- implement forward pass for the `layers.Linear` layer\n",
    "\n",
    "\n",
    "- `forward` function should return: value of linear map\n",
    "\n",
    "$$\n",
    "Wx+b\n",
    "$$\n",
    "\n",
    "where x is input, W is weight matrix of the layer, b is bias vector\n",
    "\n",
    "\n",
    "- you need to retrieve params from `params` dict\n",
    "\n",
    "    W: `self.params['w']`\n",
    "    \n",
    "    b: `self.params['b']`"
   ]
  },
  {
   "cell_type": "markdown",
   "id": "5197b56e",
   "metadata": {},
   "source": [
    "Hints:\n",
    "\n",
    "1. do computation via matrix multiplication rather than loops\n",
    "\n",
    "    otherwise too slow\n",
    "    \n",
    "\n",
    "2. `Linear` must can be apply to matrices of shape (batch_size, hidden_size) or (batch_size, n x embedding_size)\n",
    "\n",
    "    but the weight matrix has shape (output_size, input_size) and bias vector has shape (output_size, )\n",
    "    \n",
    "    means you can't do matrix multiplication exactly as equation above,\n",
    "    \n",
    "    you need **transpose one** of arrays in forward pass: **`self.params['w']`**"
   ]
  },
  {
   "cell_type": "code",
   "execution_count": null,
   "id": "e53d43cd",
   "metadata": {},
   "outputs": [],
   "source": [
    "def forward(self, x: np.ndarray) -> np.ndarray:\n",
    "    \"\"\"\n",
    "    Problem 3: Apply the linear map given by self.params. The input\n",
    "    to this layer is a batch of vectors, arranged into a 3D array.\n",
    "    This function must apply the linear map to each vector in the\n",
    "    batch.\n",
    "\n",
    "    :param x: A batch of input vectors. Shape: (batch size, input size)\n",
    "    :return: The result of applying the linear map implemented by\n",
    "        this layer to x. Shape: (batch size, output size)\n",
    "    \"\"\"\n",
    "    return x @ (self.params['w']).T + self.params['b']"
   ]
  },
  {
   "cell_type": "markdown",
   "id": "00072ba4",
   "metadata": {},
   "source": [
    "## backward computations"
   ]
  },
  {
   "cell_type": "markdown",
   "id": "9e6ffc7e",
   "metadata": {},
   "source": [
    "- in this part, you will implement backward pass for the `layers.Tanh` activation function, `layers.Linear` layer and `model.MultiLayerPerceptron` model\n",
    "\n",
    "\n",
    "- backward pass for the `layers.Embedding` layer has already been implemented"
   ]
  },
  {
   "cell_type": "markdown",
   "id": "3dffed4c",
   "metadata": {},
   "source": [
    "### problem 4"
   ]
  },
  {
   "attachments": {},
   "cell_type": "markdown",
   "id": "67a47c55",
   "metadata": {},
   "source": [
    "- implement backward pass for the `layers.Tanh` activation function\n",
    "\n",
    "\n",
    "- gradient of tanh\n",
    "\n",
    "    $$\n",
    "    \\frac{\\partial tanh(\\mathbf{x})}{\\partial \\mathbf{x}}=1- tanh(\\mathbf{x})^2\n",
    "    $$\n",
    "\n",
    "\n",
    "- input to `backward` is Jacobian $\\delta$\n",
    "\n",
    "    $$\n",
    "    \\delta =\\frac{\\partial \\mathcal{L}}{\\partial tanh(\\mathbf{x})}\n",
    "    $$\n",
    "\n",
    "    shape of $\\delta$ is same as input $tanh(\\mathbf{x})$\n",
    "\n",
    "    each entry of $\\delta$ contains the partial derivative of $\\mathcal{L}$ w.r.t corresponding entry of $tanh(\\mathbf{x})$\n",
    "\n",
    "\n",
    "- output of `backward` is Jacobian\n",
    "\n",
    "    $$\n",
    "    \\frac{\\partial \\mathcal{L}}{\\partial \\mathbf{x}}= \\delta \\frac{\\partial tanh(\\mathbf{x})}{\\partial \\mathbf{x}}\n",
    "    $$\n",
    "\n",
    "    an array of same shape as $\\mathbf{x}$ \n",
    "\n",
    "    each entry contains partial derivative of $\\mathcal{L}$ w.r.t corresponding entry of $\\mathbf{x}$"
   ]
  },
  {
   "cell_type": "code",
   "execution_count": null,
   "id": "3f02a7e0",
   "metadata": {},
   "outputs": [],
   "source": [
    "def backward(self, delta: np.ndarray) -> np.ndarray:\n",
    "    \"\"\"\n",
    "    Problem 4: Implement the backward pass for the tanh function.\n",
    "    Since this layer has no parameters, self.grad does not need to\n",
    "    be updated. You may add code to the __init__ method if you would\n",
    "    like.\n",
    "\n",
    "    :param delta: The gradient of the objective with respect to this\n",
    "        layer's output. Shape: the same shape as self.x\n",
    "    :return: The gradient of the objective with respect to self.x.\n",
    "        Shape: the same shape as self.x\n",
    "    \"\"\"\n",
    "    return delta * (1- (np.tanh(self.x))**2)"
   ]
  },
  {
   "cell_type": "markdown",
   "id": "e185ed26",
   "metadata": {},
   "source": [
    "### problem 5"
   ]
  },
  {
   "attachments": {},
   "cell_type": "markdown",
   "id": "def53caf",
   "metadata": {},
   "source": [
    "- implement `backward` function for `layers.Linear` layer\n",
    "\n",
    "\n",
    "- in addition to returning Jacobian $\\frac{\\partial \\mathcal{L}}{\\partial \\mathbf{x}}$, \n",
    "\n",
    "    you also need to update following values:\n",
    "    \n",
    "    `self.grad['w']`: gradients of objective $\\mathcal{L}$ w.r.t weight matrix $\\mathbf{W} \\in \\mathbb{R}^{p \\times q}$\n",
    "    \n",
    "    $$\n",
    "    \\nabla _W \\mathcal{L} = \\left ( \\frac{\\partial \\mathcal{L}}{\\partial W} \\right )^T  \\in \\mathbb{R}^{p \\times q}\n",
    "    $$\n",
    "    \n",
    "    `self.grad['b']`: gradients of objective L w.r.t bias vector $\\mathbf{b} \\in \\mathbb{R}^{q}$\n",
    "\n",
    "    $$\n",
    "    \\nabla _b \\mathcal{L} = \\left ( \\frac{\\partial \\mathcal{L}}{\\partial b} \\right )^T  \\in \\mathbb{R}^{q}\n",
    "    $$\n",
    "    \n",
    "    \n",
    "- the shape of these gradients are arrays same as their respective params\n",
    "    \n",
    "    if $\\mathbf{W} \\in \\mathbb{R}^{p \\times q}$, then $\\nabla _W \\mathcal{L} \\in \\mathbb{R}^{p \\times q}$, while $\\frac{\\partial \\mathcal{L}}{\\partial W}$ is a $1 \\times p \\times q$ **3D array** (a tensor)\n",
    "    \n",
    "    the transpose operation is just getting rid of first dim with only one row\n",
    "\n",
    "\n",
    "- you should compute gradients $\\nabla _w \\mathcal{L} $ and $\\nabla _b \\mathcal{L} $ using **chain rule** \n",
    "\n",
    "    and add them to existing values stored in `self.grad` using **gradient accumulation**\n",
    "    \n",
    "    `self.grad[\"w\"] +=`\n",
    "    \n",
    "    `self.grad[\"b\"] +=`"
   ]
  },
  {
   "cell_type": "code",
   "execution_count": null,
   "id": "2c068d46",
   "metadata": {},
   "outputs": [],
   "source": [
    "def backward(self, delta: np.ndarray) -> np.ndarray:\n",
    "    \"\"\"\n",
    "    Problem 5: Implement the backward pass for the linear layer.\n",
    "    This function must return the gradient of the objective with\n",
    "    respect to self.x and update the gradients in self.grad.\n",
    "\n",
    "    :param delta: The gradient of the objective with respect to the\n",
    "        output of this layer. Shape: (batch size, output size)\n",
    "    :return: The gradient of the objective w.r.t input of this layer. Shape: (batch size, input size)\n",
    "    \"\"\"\n",
    "    self.grad[\"w\"] += delta.T @ self.x \n",
    "    self.grad[\"b\"] += delta.T @ np.ones([delta.shape[0],])\n",
    "    return delta @ self.params['w']"
   ]
  },
  {
   "cell_type": "markdown",
   "id": "e2dc88ad",
   "metadata": {},
   "source": [
    "### problem 6"
   ]
  },
  {
   "cell_type": "markdown",
   "id": "2482b0be",
   "metadata": {},
   "source": [
    "- implement `backward` function of `model.MultiLayerPerceptron`\n",
    "\n",
    "\n",
    "- `forward` function has already been implemented for you\n",
    "\n",
    "    it first applies `forward` of the embedding layer,\n",
    "    \n",
    "    then reshapes its output to concatenate the word embeddings together,\n",
    "    \n",
    "    then applies the `forward` of each of the layers.\n",
    "    \n",
    "    remember `model.MultiLayerPerceptron` doesn't include softmax function\n",
    "    "
   ]
  },
  {
   "attachments": {},
   "cell_type": "markdown",
   "id": "d9a62729",
   "metadata": {},
   "source": [
    "- as with `layers.Tanh`, the input to `backward` will be Jacobian $\\delta$\n",
    "\n",
    "    $$\n",
    "    \\boldsymbol{\\delta}=\\frac{\\partial \\mathcal{L}}{\\partial \\hat {\\mathbf{y}}}\n",
    "    $$\n",
    "\n",
    "    where $\\hat {\\mathbf{y}}$ is output in Figure 1 (doesn't contain softmax)\n",
    "\n",
    "- you code should iterate thru the list of layers in `self.layers` in reverse order,\n",
    "\n",
    "    applying each layer's `backward` method to compute a new value of $\\boldsymbol{\\delta}$ representing partial derivative of the loss w.r.t the input to that layer, in accordance with the chain rule.\n",
    "    \n",
    "    e.g. if $\\boldsymbol{z}$ is input to output layer, \n",
    "    \n",
    "    then we can push $\\boldsymbol{\\delta}$ one step backward thru the output layer as follows:\n",
    "    \n",
    "    $$\n",
    "    \\boldsymbol{\\delta} \\leftarrow \\frac{\\partial \\mathcal{L}}{\\partial  \\mathbf{z}}=\\boldsymbol{\\delta}\\frac{\\partial \\hat {\\mathbf{y}}}{\\partial {\\mathbf{z}}}\n",
    "    $$"
   ]
  },
  {
   "cell_type": "markdown",
   "id": "11205414",
   "metadata": {},
   "source": [
    "- Note: provided implementation of `layers.Embedding.backward` and `layers.Linear.backward` \n",
    "\n",
    "    store the gradients w.r.t their params in the `grad` dict \n",
    "\n",
    "    in addition to returning the gradients w.r.t their inputs"
   ]
  },
  {
   "cell_type": "markdown",
   "id": "8872e4b7",
   "metadata": {},
   "source": [
    "Hint\n",
    "\n",
    "1. express computation in matrix operations, rather than for loops\n",
    "\n",
    "    work thru derivative on pencil and paper\n",
    "    \n",
    "    1. apply chain rule to compute derivatives w.r.t individual units, weights, biases\n",
    "    \n",
    "    2. express formulas in matrix form: matrix addition, matrix multiplication, matrix transpose, elementwise operation\n",
    "\n",
    "\n",
    "2. Note: output and $\\boldsymbol{\\delta}$ of `Embedding` layer has shape (batch_size, n, embedding_size),\n",
    "\n",
    "    while output of `backward` function for 1st `Linear` layer (i.e. 1st layer in `layers` list) has shape (batch_size, n x embedding_size)\n",
    "    \n",
    "    when propagating gradient to `Embedding`, \n",
    "    \n",
    "    you need to reshape $\\boldsymbol{\\delta}$ to correct shape by un-concatenating word embeddings in n-gram"
   ]
  },
  {
   "cell_type": "code",
   "execution_count": 49,
   "id": "fca2bbf2",
   "metadata": {
    "ExecuteTime": {
     "end_time": "2021-10-27T16:36:15.595992Z",
     "start_time": "2021-10-27T16:36:15.589963Z"
    }
   },
   "outputs": [],
   "source": [
    "# Reshape the embeddings by concatenating them together\n",
    "layer_input = embeddings.reshape((len(ngrams),n,-1))"
   ]
  },
  {
   "cell_type": "code",
   "execution_count": 50,
   "id": "28bcdb7a",
   "metadata": {
    "ExecuteTime": {
     "end_time": "2021-10-27T16:36:16.126538Z",
     "start_time": "2021-10-27T16:36:16.124033Z"
    }
   },
   "outputs": [
    {
     "data": {
      "text/plain": [
       "(5, 3, 40)"
      ]
     },
     "execution_count": 50,
     "metadata": {},
     "output_type": "execute_result"
    }
   ],
   "source": [
    "layer_input.shape "
   ]
  },
  {
   "cell_type": "code",
   "execution_count": null,
   "id": "30f423b6",
   "metadata": {},
   "outputs": [],
   "source": [
    "def backward(self, delta: np.ndarray):\n",
    "    \"\"\"\n",
    "    Problem 6: Implement the backward pass. This function needs to\n",
    "    call the backward function of self.embedding_layer and all\n",
    "    layers in self.layers. It does not need to return anything.\n",
    "\n",
    "    :param delta: The gradient of the objective with respect to the\n",
    "        logit scores produced by self.forward. Shape: (batch size,\n",
    "        number of POS tags)\n",
    "    \"\"\"\n",
    "    for layer in reversed(self.layers):\n",
    "        delta = layer.backward(delta)\n",
    "\n",
    "    self.layers.Embedding.backward(delta.reshape(-1,self.ngram_len,self.embedding_size))\n"
   ]
  },
  {
   "cell_type": "markdown",
   "id": "3f8edc1e",
   "metadata": {},
   "source": [
    "## Stochastic gradient descent"
   ]
  },
  {
   "cell_type": "markdown",
   "id": "699494b3",
   "metadata": {},
   "source": [
    "- SGD is implemented by `layers.Layer.update` function, \n",
    "\n",
    "    which updates params (in `params` dict) of a layer based on gradients (in `grad` dict) previously computed by `backward`"
   ]
  },
  {
   "cell_type": "markdown",
   "id": "f4f33358",
   "metadata": {},
   "source": [
    "### problem 7"
   ]
  },
  {
   "cell_type": "markdown",
   "id": "663a34b2",
   "metadata": {},
   "source": [
    "- implement `update` function for `layers.Layer` base class\n",
    "\n",
    "    this will implement SGD for all layers in `layers` in one fell swoop,\n",
    "    \n",
    "    since those layers don't override `update` function"
   ]
  },
  {
   "cell_type": "code",
   "execution_count": null,
   "id": "5e35670f",
   "metadata": {},
   "outputs": [],
   "source": [
    "def update(self, lr: float):\n",
    "    \"\"\"\n",
    "        Problem 8: Implement the SGD update for MultiLayerPerceptron.\n",
    "        This function must update the parameters of self.embedding_layer\n",
    "        as well as all the layers in self.layers.\n",
    "\n",
    "        :param lr: The learning rate\n",
    "        \"\"\"\n",
    "    for p in self.params:\n",
    "        self.params[p] -= lr * self.grad[p]\n",
    "    \n",
    "    self.clear_grad()"
   ]
  },
  {
   "cell_type": "markdown",
   "id": "86ff8c96",
   "metadata": {},
   "source": [
    "### problem 8"
   ]
  },
  {
   "cell_type": "markdown",
   "id": "d76b2d67",
   "metadata": {},
   "source": [
    "- implement `update` function for `models.MultiLayerPerceptron`,\n",
    "\n",
    "    this function will need to call `update` on embedding layer and all the hidden layers and output layer of the MLP"
   ]
  },
  {
   "cell_type": "code",
   "execution_count": null,
   "id": "ac65d6fa",
   "metadata": {},
   "outputs": [],
   "source": [
    "def update(self, lr: float):\n",
    "    \"\"\"\n",
    "    Problem 8: Implement the SGD update for MultiLayerPerceptron.\n",
    "    This function must update the parameters of self.embedding_layer\n",
    "    as well as all the layers in self.layers.\n",
    "\n",
    "    :param lr: The learning rate\n",
    "    \"\"\"\n",
    "    self.embedding_layer.update(lr)\n",
    "\n",
    "    for layer in (self.layers):\n",
    "        layer.update(lr)"
   ]
  },
  {
   "cell_type": "markdown",
   "id": "fb83db8b",
   "metadata": {},
   "source": [
    "## softmax and cross-entropy loss"
   ]
  },
  {
   "attachments": {},
   "cell_type": "markdown",
   "id": "1dda42ae",
   "metadata": {},
   "source": [
    "- softmax activation function:\n",
    "\n",
    "    $$\n",
    "    \\text{softmax}(\\mathbf{x})=\\frac{e^{\\mathbf{x}}}{\\boldsymbol{1}^T e^{\\mathbf{x}}}\n",
    "    $$\n",
    "\n",
    "\n",
    "- cross-entropy loss for a single example\n",
    "\n",
    "    $$\n",
    "    L_{CE}(\\text{softmax}(\\hat {\\mathbf{y}}),y)=- \\ln(\\text{softmax}(\\hat {\\mathbf{y}})_y)=-\\ln \\left ( \\frac{e^{\\hat {\\mathbf{y}}_y}}{\\boldsymbol{1}^T e^{\\hat {\\mathbf{y}}}}\n",
    "    \\right )=-\\ln \\left ( \\frac{e^{\\hat {\\mathbf{y}}_y}}{\\sum _{i=1}^{17}e^{\\hat {\\mathbf{y}}_i} }\\right )\n",
    "    $$"
   ]
  },
  {
   "attachments": {},
   "cell_type": "markdown",
   "id": "0ca53bc1",
   "metadata": {},
   "source": [
    "- $\\hat {\\mathbf{y}} \\in \\mathbb{R}^{17}$ is a probability vector,\n",
    "\n",
    "    where $\\hat {\\mathbf{y}}_y$ is the logit (confidence score) assigned by the MLP model to the correct POS tag\n",
    "        \n",
    "    $\\text{softmax}(\\hat {\\mathbf{y}}_y) \\in [0,1]$ is the probability that the correct label is class y\n",
    "\n",
    "- $y \\in \\left\\{1,2,...,17 \\right\\}$ is groud truth scalar label \n",
    "    \n",
    "- e.g., consider the 3-gram `[BOS] The cat`. \n",
    "\n",
    "    the middle word `The` is a determiner (\"DET\"), which is item 5 in the POS tag vocabulary. \n",
    "    \n",
    "    Therefore for this 3-gram input, label y = 5. \n",
    "    \n",
    "    $\\hat {\\mathbf{y}}_5$ is the confidence (before softmax) \n",
    "    \n",
    "    MLP model has $\\hat {\\mathbf{y}}_5$ confidence that POS tag for word `The` in the 3-gram context `[BOS] The cat` should be \"DET\"."
   ]
  },
  {
   "cell_type": "markdown",
   "id": "2071d20e",
   "metadata": {},
   "source": [
    "- unfortunately, softmax function suffers from numerical stability:\n",
    "\n",
    "    because $e^x$ grows extremely quickly relative to $x$,\n",
    "    \n",
    "    implementing softmax directly from its def may lead to overflow errors,\n",
    "    \n",
    "    to avoid this, we shift $\\mathbf{x}$ by a constant factor so that $e^x$ won't be too large"
   ]
  },
  {
   "cell_type": "markdown",
   "id": "f253d0e2",
   "metadata": {},
   "source": [
    "### problem 9"
   ]
  },
  {
   "attachments": {},
   "cell_type": "markdown",
   "id": "43d944aa",
   "metadata": {},
   "source": [
    "- implement `softmax` function in `loss` module\n",
    "\n",
    "\n",
    "- on input $\\hat {\\mathbf{y}}$, this function should return the vector\n",
    "\n",
    "    $$\n",
    "    \\text{softmax}(\\hat {\\mathbf{y}} - c)\n",
    "    $$\n",
    "\n",
    "    where constant $c=\\max(\\hat {\\mathbf{y}})$ is largest entry of $\\hat {\\mathbf{y}}$, i.e., most positive entry\n",
    "\n",
    "    $c$ should be computed separately for each logit vector in the batch,\n",
    "\n",
    "    i.e., the max should be taken along the last dim"
   ]
  },
  {
   "cell_type": "code",
   "execution_count": 5,
   "id": "bc8a44bf",
   "metadata": {
    "ExecuteTime": {
     "end_time": "2021-10-27T22:08:44.465644Z",
     "start_time": "2021-10-27T22:08:44.457293Z"
    }
   },
   "outputs": [],
   "source": [
    "def softmax(x: np.array) -> np.array:\n",
    "    \"\"\"\n",
    "    Problem 9: Implement a numerically stabilized version of softmax.\n",
    "\n",
    "    :param x: Any array of vectors\n",
    "    :return: The softmax of x - c along dimension -1, where c is the\n",
    "        maximum of x along dimension -1\n",
    "    \"\"\"\n",
    "    c = np.max(x, axis=-1, keepdims=True)\n",
    "    return np.exp(x-c) / np.exp(x-c).sum(axis=-1, keepdims=True)"
   ]
  },
  {
   "cell_type": "markdown",
   "id": "68de76d3",
   "metadata": {},
   "source": [
    "### problem 10"
   ]
  },
  {
   "attachments": {},
   "cell_type": "markdown",
   "id": "a4173038",
   "metadata": {},
   "source": [
    "- verify your code for problem 9 is a valid implementation of softmax\n",
    "\n",
    "\n",
    "- for any input vector $\\mathbf{x}$ and scalar c,\n",
    "\n",
    "    $$\n",
    "    \\text{softmax}(\\mathbf{x}) = \\text{softmax}(\\mathbf{x}+c)\n",
    "    $$\n",
    "\n",
    "    i.e., softmax function is invariant to constant offsets in input\n",
    "\n",
    "    means stabilization trick of subtracting the max entry of $\\hat {\\mathbf{y}}$ doesn't affect output of softmax"
   ]
  },
  {
   "cell_type": "code",
   "execution_count": 84,
   "id": "7b30373f",
   "metadata": {
    "ExecuteTime": {
     "end_time": "2021-10-27T22:10:45.351619Z",
     "start_time": "2021-10-27T22:10:45.340176Z"
    }
   },
   "outputs": [
    {
     "data": {
      "text/plain": [
       "True"
      ]
     },
     "execution_count": 84,
     "metadata": {},
     "output_type": "execute_result"
    }
   ],
   "source": [
    "x = np.random.rand(4,5)\n",
    "c = np.random.rand(1)\n",
    "np.allclose(softmax(x), softmax(x + c))"
   ]
  },
  {
   "cell_type": "markdown",
   "id": "410e6155",
   "metadata": {},
   "source": [
    "### problem 11"
   ]
  },
  {
   "cell_type": "markdown",
   "id": "f0bf03fe",
   "metadata": {},
   "source": [
    "- implement `forward` function of `CrossEntropySoftmaxLoss` using your implementation of softmax from Problem 10"
   ]
  },
  {
   "cell_type": "code",
   "execution_count": null,
   "id": "ff520ab0",
   "metadata": {},
   "outputs": [],
   "source": [
    "def forward(self, logits: np.ndarray, y: np.ndarray) -> np.ndarray:\n",
    "    \"\"\"\n",
    "    Problem 11: Compute the total cross-entropy loss for a batch of\n",
    "    neural network predictions given a set of gold labels. You may\n",
    "    add code to the __init__ method if you would like.\n",
    "\n",
    "    :param logits: An array of logit scores. The softmax of this\n",
    "        array gives the probability assigned to each POS tag. Shape:\n",
    "        (batch size, number of POS tags)\n",
    "    :param y: An int-valued array of gold-standard POS tag labels.\n",
    "        Shape: (batch size)\n",
    "    :return: A 0D (scalar) array containing the sum of the cross-\n",
    "        entropy loss for all predictions in the batch\n",
    "    \"\"\"\n",
    "    self.logits = logits \n",
    "    self.y = y \n",
    "    return -np.sum(np.log(softmax(logits)[np.arange(logits.shape[0]), y]))"
   ]
  },
  {
   "cell_type": "code",
   "execution_count": 8,
   "id": "e6ab8b3c",
   "metadata": {
    "ExecuteTime": {
     "end_time": "2021-10-27T23:01:38.499202Z",
     "start_time": "2021-10-27T23:01:38.490110Z"
    }
   },
   "outputs": [
    {
     "data": {
      "text/plain": [
       "((5, 17), array([1, 2, 3, 4, 5]), (5, 17))"
      ]
     },
     "execution_count": 8,
     "metadata": {},
     "output_type": "execute_result"
    }
   ],
   "source": [
    "import numpy as np \n",
    "# batch size, number of POS tags\n",
    "logits = np.random.normal(size=(5, 17))\n",
    "\n",
    "y = np.array([1,2,3,4,5]) \n",
    "\n",
    "logits.shape, y, softmax(logits).shape "
   ]
  },
  {
   "cell_type": "code",
   "execution_count": 7,
   "id": "03468911",
   "metadata": {},
   "outputs": [
    {
     "data": {
      "text/plain": [
       "16.98860325942511"
      ]
     },
     "execution_count": 7,
     "metadata": {},
     "output_type": "execute_result"
    }
   ],
   "source": [
    "-np.sum(np.log(softmax(logits)[np.arange(logits.shape[0]), y]))"
   ]
  },
  {
   "cell_type": "markdown",
   "id": "fc9bd1b2",
   "metadata": {},
   "source": [
    "### problem 12"
   ]
  },
  {
   "cell_type": "markdown",
   "id": "1380cc7b",
   "metadata": {},
   "source": [
    "- implement `backward` function of `CrossEntropySoftmaxLoss` \n",
    "\n",
    "\n",
    "- since $\\delta$ of the loss function is always 1, \n",
    "\n",
    "    this `backward` function doesn't take a `delta` param,\n",
    "    \n",
    "    its output should be $\\mathbf{\\delta}$ for `model.MultiLayerPerceptron` model\n",
    "    \n",
    "$$\n",
    "\\boldsymbol{\\delta} = \\frac{\\partial \\mathcal{L}}{\\partial  \\hat {\\mathbf{y}}}=\\frac{\\partial }{\\partial  \\hat {\\mathbf{y}}} L_{CE}(\\text{softmax}( \\hat {\\mathbf{y}}), y)\n",
    "$$\n",
    "\n"
   ]
  },
  {
   "cell_type": "markdown",
   "id": "41a7a31a",
   "metadata": {},
   "source": [
    "- as before, your output should be a matrix of shape (batch_size, 17)\n",
    "\n",
    "    where each row: an example in input batch\n",
    "    \n",
    "    each column: derivative of the loss w.r.t corresponding column of $\\hat {\\mathbf{y}}$"
   ]
  },
  {
   "cell_type": "markdown",
   "id": "26ac7734",
   "metadata": {},
   "source": [
    "- simultaneously implement **backward pass** for both cross-entropy loss function and softmax activation function\n",
    "\n",
    "\n",
    "- there is a simple math expression for gradient of these 2 units put together,\n",
    "\n",
    "    makes it more efficient to implement them as a single layer than as 2 separate layers"
   ]
  },
  {
   "cell_type": "markdown",
   "id": "33f91089",
   "metadata": {},
   "source": [
    "- Hint\n",
    "\n",
    "1. write out def of $L_{CE}(\\text{softmax}(\\hat {\\mathbf{y}}),y)$ and expand this expression\n",
    "    \n",
    "    then compute partial derivative of this expression w.r.t each entry $\\hat y_i$ of output of output layer \n",
    "   \n",
    "   \n",
    "2. after you compute $\\frac{\\partial \\mathcal{L} }{\\partial  \\hat {y_i}}$, \n",
    "\n",
    "    try to find a clean, array-based expression for $\\boldsymbol{\\delta}$"
   ]
  },
  {
   "cell_type": "markdown",
   "id": "d42d541a",
   "metadata": {},
   "source": [
    "https://towardsdatascience.com/derivative-of-the-softmax-function-and-the-categorical-cross-entropy-loss-ffceefc081d1"
   ]
  },
  {
   "cell_type": "code",
   "execution_count": null,
   "id": "b37102f7",
   "metadata": {},
   "outputs": [],
   "source": [
    "def backward(self) -> np.ndarray:\n",
    "    \"\"\"\n",
    "        Problem 12: Computes the gradient of the cross-entropy loss with\n",
    "        respect to the logit scores. Since this is the root node of the\n",
    "        computation graph, the backward function does not take any\n",
    "        parameters. You may add code to the __init__ method if you would\n",
    "        like.\n",
    "\n",
    "        :return: The gradient of the cross-entropy loss with respect to\n",
    "            the logit scores. Shape: (batch size, number of POS tags)\n",
    "        \"\"\"\n",
    "    one_hot = np.zeros((self.logits.shape))\n",
    "    one_hot[np.arange(self.logits.shape[0]), self.y] = 1\n",
    "    return softmax(self.logits) - one_hot"
   ]
  },
  {
   "cell_type": "markdown",
   "id": "417fd63c",
   "metadata": {},
   "source": [
    "## training code"
   ]
  },
  {
   "cell_type": "markdown",
   "id": "49dc75d7",
   "metadata": {},
   "source": [
    "- the final step is to train the model\n",
    "\n",
    "\n",
    "- `train_epoch` and `run_trial` functions from `train.py` module implement main training procedure\n",
    "\n",
    "\n",
    "- `train_epoch` trains a given model for a single epoch "
   ]
  },
  {
   "cell_type": "markdown",
   "id": "58d24e24",
   "metadata": {},
   "source": [
    "### problem 13"
   ]
  },
  {
   "cell_type": "markdown",
   "id": "1bcc842b",
   "metadata": {},
   "source": [
    "- compute main loop of `train.train_epoch`: start from line 31\n",
    "\n",
    "    this for-loop iterates over mini-batches of data\n",
    "    \n",
    "\n",
    "- you need to implement one-step of SGD algo:\n",
    "\n",
    "    1. clear the stored graidents\n",
    "    \n",
    "    2. perform forward pass \n",
    "    \n",
    "    3. perform backward pass \n",
    "    \n",
    "    4. update params of model"
   ]
  },
  {
   "cell_type": "code",
   "execution_count": null,
   "id": "daaba7e3",
   "metadata": {},
   "outputs": [],
   "source": [
    "def train_epoch(model: MultiLayerPerceptron, train_data: Dataset,\n",
    "                batch_size: int, loss_function: CrossEntropyLoss, lr: float):\n",
    "    \"\"\"\n",
    "    Trains a model for one epoch.\n",
    "\n",
    "    :param model: A model\n",
    "    :param train_data: The training data\n",
    "    :param batch_size: The batch size\n",
    "    :param loss_function: The loss function layer\n",
    "    :param lr: The learning rate for this batch\n",
    "    \"\"\"\n",
    "    loss_metric = AverageLoss()\n",
    "    acc_metric = Accuracy()\n",
    "\n",
    "    for i, (ngrams, pos_tags) in enumerate(train_data.get_batches(batch_size)):\n",
    "        # implement one iteration of the SGD algorithm. \n",
    "        # `ngrams` contains the input to your model, \n",
    "        # `pos_tags` contains the gold-standard POS tags that model needs to predict.\n",
    "        \n",
    "        # clear the gradients of model\n",
    "        model.clear_grad()\n",
    "        # Set this variable to the output of your model, excluding softmax\n",
    "        logits = model(ngrams)\n",
    "        # compute total cross-entropy loss for this mini-batch\n",
    "        batch_loss = loss_function(logits, pos_tags)\n",
    "        # run backpropagation algorithm to compute gradients of model for this mini-batch\n",
    "        model.backward(loss_function.backward())\n",
    "        # update the parameters\n",
    "        model.update(lr)\n",
    "\n",
    "        # Update metrics (loss and accuracy)\n",
    "        avg_batch_loss = loss_metric.update(batch_loss, len(ngrams))\n",
    "        batch_acc = acc_metric.update(logits, pos_tags)\n",
    "        if (i + 1) % 100 == 0:\n",
    "            print_metrics(avg_batch_loss, batch_acc, \"Batch {}\".format(i + 1))\n",
    "\n",
    "    # Report epoch results\n",
    "    print_metrics(loss_metric.value, acc_metric.value, \"Training Complete\")\n"
   ]
  },
  {
   "cell_type": "markdown",
   "id": "7961ac9f",
   "metadata": {},
   "source": [
    "- once you implemented the training loop, \n",
    "\n",
    "    there are 2 ways you can train the model\n",
    "    \n",
    "1. call `train.py` file as a script \n",
    "    \n",
    "    in Terminal: `python train.py`\n",
    "        \n",
    "    in Jupyter notebook: `!python train.py`\n",
    "   \n",
    "   \n",
    "2. recreate training script at the bottom of `train.py` file in your own script or Jupyter Notebook\n",
    "\n",
    "    `from train import run_trial` \n",
    "\n",
    "\n",
    "- we won't grade any scripts you write for training the model\n",
    "\n",
    "    don't submit any extra Python scripts or Jupyter Notebook with submissions"
   ]
  },
  {
   "cell_type": "markdown",
   "id": "601970cf",
   "metadata": {},
   "source": [
    "# analysis"
   ]
  },
  {
   "cell_type": "markdown",
   "id": "072963bb",
   "metadata": {},
   "source": [
    "- understand what your neural network has learned during training"
   ]
  },
  {
   "cell_type": "markdown",
   "id": "bd90b7bb",
   "metadata": {},
   "source": [
    "## Part of Speech ambiguity"
   ]
  },
  {
   "cell_type": "markdown",
   "id": "3a6257c9",
   "metadata": {},
   "source": [
    "- most English words only have one POS,\n",
    "\n",
    "    for these words, the net simply needs to memorize their POS tags\n",
    "    \n",
    "    words with multiple POS are more challenging for the model\n",
    "    \n",
    "    can your trained net handle these more difficult cases?"
   ]
  },
  {
   "cell_type": "markdown",
   "id": "9839cb18",
   "metadata": {},
   "source": [
    "### problem 14"
   ]
  },
  {
   "cell_type": "markdown",
   "id": "7a9c7082",
   "metadata": {},
   "source": [
    "- find 3 words that can take on > 1 POS\n",
    "\n",
    "    for each word, give two 3-grams with your word in the middle\n",
    "    \n",
    "    one that forces your word to have 1 POS;\n",
    "    \n",
    "    one that forces your word to have a different POS"
   ]
  },
  {
   "cell_type": "code",
   "execution_count": 7,
   "id": "05464311",
   "metadata": {
    "ExecuteTime": {
     "end_time": "2021-10-29T00:33:47.788682Z",
     "start_time": "2021-10-29T00:33:47.782918Z"
    }
   },
   "outputs": [],
   "source": [
    "tokens_list = [\n",
    "    ['is', 'flying', 'across'], # word1: flying, unambiguious: VERB\n",
    "    ['[BOS]', 'Flying', 'planes'], # word1: flying, ambiguious: VERB or NOUN\n",
    "    ['The', 'flies', 'died'], # word2: flies, unambiguious: NOUN\n",
    "    ['Time', 'flies', 'like'], # word2: flies, ambiguious: VERB OR NOUN\n",
    "    ['I', 'fire', 'him'], # word3: fire, unambiguious: VERB\n",
    "    ['green', 'fire', 'truck'] # word3: fire, ambiguious: VERB or NOUN\n",
    "]"
   ]
  },
  {
   "cell_type": "markdown",
   "id": "d42eb4d8",
   "metadata": {},
   "source": [
    "### problem 15"
   ]
  },
  {
   "cell_type": "markdown",
   "id": "26bd910f",
   "metadata": {},
   "source": [
    "- train a 3-gram POS tagger and feed your six 3-grams from Problem 14 into your POS tagger\n",
    "\n",
    "\n",
    "- report the testing accuracy of your model\n",
    "\n",
    "    make sure that it's >= 75%\n",
    "    \n",
    "\n",
    "- what POS tags does your tagger assign to the six 3-grams?\n",
    "\n",
    "    for which of the 3-grams does your model make a correct prediction?"
   ]
  },
  {
   "cell_type": "markdown",
   "id": "6316894e",
   "metadata": {},
   "source": [
    "Hints:\n",
    "\n",
    "1. try using the following hyperparams for training your model:\n",
    "\n",
    "    learning rate 0.1, batch size 5, step size 4, $\\gamma = 0.25$, 1 layer\n",
    "    \n",
    "\n",
    "2. use the following template in a Python script or Jupyter Notebook to run your model on a 3-gram"
   ]
  },
  {
   "cell_type": "markdown",
   "id": "237f36d9",
   "metadata": {},
   "source": [
    "- test accuracy is 76.8%\n",
    "\n",
    "\n",
    "- The model made a correct prediction for the 3-grams below:\n",
    "\n",
    "    'is flying across' ['VERB'] \n",
    "\n",
    "    'I fire him' ['VERB'] "
   ]
  },
  {
   "cell_type": "code",
   "execution_count": 1,
   "id": "6debe52d",
   "metadata": {
    "ExecuteTime": {
     "end_time": "2021-10-29T00:29:17.840423Z",
     "start_time": "2021-10-29T00:29:17.703729Z"
    }
   },
   "outputs": [
    {
     "name": "stdout",
     "output_type": "stream",
     "text": [
      "/Users/wenxinxu/Desktop/LING 780/homework/hw 2 n-Gram Part of Speech Tagger/Archive\r\n"
     ]
    }
   ],
   "source": [
    "!pwd "
   ]
  },
  {
   "cell_type": "code",
   "execution_count": 2,
   "id": "589f28b6",
   "metadata": {
    "ExecuteTime": {
     "end_time": "2021-10-29T01:22:58.645570Z",
     "start_time": "2021-10-29T01:22:58.624851Z"
    }
   },
   "outputs": [],
   "source": [
    "import pickle\n",
    "import numpy as np\n",
    "from data_loader import load_embeddings, all_pos_tags, Vocabulary\n",
    "from model import MultiLayerPerceptron"
   ]
  },
  {
   "cell_type": "code",
   "execution_count": null,
   "id": "9e81ba9b",
   "metadata": {},
   "outputs": [
    {
     "name": "stdout",
     "output_type": "stream",
     "text": [
      "['NOUN']\n"
     ]
    }
   ],
   "source": [
    "ngram_len = 3\n",
    "hidden_size = 16  \n",
    "num_layers = 1\n",
    "\n",
    "# Load embeddings and vocab\n",
    "all_tokens, glove_embeddings = load_embeddings()\n",
    "\n",
    "# Only use 5,000 most common embeddings\n",
    "all_tokens = all_tokens[:5000]\n",
    "glove_embeddings = glove_embeddings[:5000]\n",
    "\n",
    "# create vocabularies\n",
    "token_vocab = Vocabulary(all_tokens + [\"[UNK]\", \"[BOS]\", \"[EOS]\"])\n",
    "pos_tag_vocab = Vocabulary(all_pos_tags)"
   ]
  },
  {
   "cell_type": "code",
   "execution_count": 4,
   "id": "99fec9fd",
   "metadata": {
    "ExecuteTime": {
     "end_time": "2021-10-29T00:29:52.378122Z",
     "start_time": "2021-10-29T00:29:52.364485Z"
    }
   },
   "outputs": [],
   "source": [
    "# Create model: with pretrained embedding\n",
    "model = MultiLayerPerceptron(len(token_vocab), len(pos_tag_vocab),\n",
    "                                ngram_len, pretrained_embeddings.shape[-1],\n",
    "                                hidden_size, num_layers)\n",
    "\n",
    "with open(\"checkpoint.p\", \"rb\") as f:\n",
    "        model = pickle.load(f)"
   ]
  },
  {
   "cell_type": "code",
   "execution_count": 8,
   "id": "faaec763",
   "metadata": {
    "ExecuteTime": {
     "end_time": "2021-10-29T01:24:55.567169Z",
     "start_time": "2021-10-29T01:24:55.310387Z"
    }
   },
   "outputs": [
    {
     "name": "stdout",
     "output_type": "stream",
     "text": [
      "Loading embeddings...\n",
      "Done.\n"
     ]
    }
   ],
   "source": [
    "# Load embeddings and vocab\n",
    "print(\"Loading embeddings...\")\n",
    "all_tokens, glove_embeddings = load_embeddings()\n",
    "\n",
    "# Only use the 5,000 most common embeddings\n",
    "all_tokens = all_tokens[:5000]\n",
    "glove_embeddings = glove_embeddings[:5000]\n",
    "print(\"Done.\")\n"
   ]
  },
  {
   "cell_type": "code",
   "execution_count": 6,
   "id": "8f42eca5",
   "metadata": {
    "ExecuteTime": {
     "end_time": "2021-10-29T00:30:36.313503Z",
     "start_time": "2021-10-29T00:30:36.298684Z"
    }
   },
   "outputs": [
    {
     "name": "stdout",
     "output_type": "stream",
     "text": [
      "['NOUN']\n"
     ]
    }
   ],
   "source": [
    "# create vocabularies\n",
    "token_vocab = Vocabulary(all_tokens + [\"[UNK]\", \"[BOS]\", \"[EOS]\"])\n",
    "\n",
    "pos_tag_vocab = Vocabulary(all_pos_tags)\n",
    "\n",
    "# prepare model input\n",
    "tokens = ['Hello', 'world', '!']\n",
    "\n",
    "ngrams = np.array(token_vocab.get_ngrams(tokens, 3))[1:2]\n",
    "\n",
    "# get model output\n",
    "predictions = model(ngrams).argmax(axis=-1) \n",
    "\n",
    "pos_tags = [pos_tag_vocab.get_form(p) for p in predictions] \n",
    "\n",
    "print(pos_tags)"
   ]
  },
  {
   "cell_type": "code",
   "execution_count": 8,
   "id": "8c08c5c2",
   "metadata": {
    "ExecuteTime": {
     "end_time": "2021-10-29T00:34:29.796230Z",
     "start_time": "2021-10-29T00:34:29.785339Z"
    }
   },
   "outputs": [
    {
     "name": "stdout",
     "output_type": "stream",
     "text": [
      "['VERB']\n",
      "['PRON']\n",
      "['PRON']\n",
      "['NOUN']\n",
      "['VERB']\n",
      "['NOUN']\n"
     ]
    }
   ],
   "source": [
    "for tokens in tokens_list:\n",
    "    \n",
    "    ngrams = np.array(token_vocab.get_ngrams(tokens, 3))[1:2]\n",
    "\n",
    "    # get model output\n",
    "    predictions = model(ngrams).argmax(axis=-1) \n",
    "\n",
    "    pos_tags = [pos_tag_vocab.get_form(p) for p in predictions] \n",
    "\n",
    "    print(pos_tags)\n"
   ]
  },
  {
   "cell_type": "markdown",
   "id": "3aa929d7",
   "metadata": {},
   "source": [
    "### problem 16"
   ]
  },
  {
   "cell_type": "markdown",
   "id": "31b9da1d",
   "metadata": {},
   "source": [
    "- find 3 symmetrical skip-grams with window size 1,\n",
    "\n",
    "    i.e., three 3-grams with the middle word missing\n",
    "    \n",
    "    such that only words belonging to 1 particular POS can be inserted into middle of skip-gram\n",
    "    \n",
    "\n",
    "- then, form three 3-grams by inserting `[UNK]` into middle of your 3 skip-grams\n",
    "\n",
    "\n",
    "- what POS tag is assigned to your three 3-grams by the POS tagger you trained in Problem 15?"
   ]
  },
  {
   "cell_type": "code",
   "execution_count": 10,
   "id": "ee69458c",
   "metadata": {
    "ExecuteTime": {
     "end_time": "2021-10-29T00:57:47.140371Z",
     "start_time": "2021-10-29T00:57:47.134772Z"
    }
   },
   "outputs": [],
   "source": [
    "skip_grams_list = [\n",
    "    ['The', '[UNK]', 'meows'], # NOUN\n",
    "    ['A', '[UNK]', 'cake'], # ADJ\n",
    "    ['He', '[UNK]', 'away'] # VERB\n",
    "]"
   ]
  },
  {
   "cell_type": "code",
   "execution_count": 11,
   "id": "2920d201",
   "metadata": {
    "ExecuteTime": {
     "end_time": "2021-10-29T00:58:09.973362Z",
     "start_time": "2021-10-29T00:58:09.963927Z"
    }
   },
   "outputs": [
    {
     "name": "stdout",
     "output_type": "stream",
     "text": [
      "['PROPN']\n",
      "['PROPN']\n",
      "['NOUN']\n"
     ]
    }
   ],
   "source": [
    "for tokens in skip_grams_list:\n",
    "    \n",
    "    ngrams = np.array(token_vocab.get_ngrams(tokens, 3))[1:2]\n",
    "\n",
    "    # get model output\n",
    "    predictions = model(ngrams).argmax(axis=-1) \n",
    "\n",
    "    pos_tags = [pos_tag_vocab.get_form(p) for p in predictions] \n",
    "\n",
    "    print(pos_tags)\n"
   ]
  },
  {
   "cell_type": "markdown",
   "id": "349bbda2",
   "metadata": {},
   "source": [
    " - The POS tag assigned to my three 3-grams by the POS tagger I trained in Problem 15 is:\n",
    " \n",
    "    'The [UNK] meows': expected NOUN, but got PROPN\n",
    " \n",
    "    'A [UNK] cake': expected ADJ, but got PROPN\n",
    "    \n",
    "    'He [UNK] away': expected VERB, but got NOUN"
   ]
  },
  {
   "cell_type": "markdown",
   "id": "945d4ffc",
   "metadata": {},
   "source": [
    "## POS and word embeddings"
   ]
  },
  {
   "cell_type": "markdown",
   "id": "73d98600",
   "metadata": {},
   "source": [
    "- POS tagging model learns embeddings that are optimized to carry out the tagging task\n",
    "\n",
    "\n",
    "- in this final part, you will consider the structure of this embedding space and how it facilitates the task of POS tagging\n",
    "\n",
    "\n",
    "- we will focus on embeddings of POS-unambiguous words\n",
    "\n",
    "    i.e., words that appear tagged with only a single POS in the training data\n",
    "    \n",
    "\n",
    "- POS-ambiguous words will be represented as some combination of multiple POS with which they're associated (sensitive to freq with which they occur in each)\n",
    "\n",
    "    and therefore won't be easily interpretable"
   ]
  },
  {
   "cell_type": "markdown",
   "id": "6a50dfcd",
   "metadata": {},
   "source": [
    "- in `data` folder a CSV file `unambiguous_pos_tags.csv` contains all POS-unambiguous words from training set\n",
    "\n",
    "\n",
    "- you can load these words, together with their corresponding POS tags, using Python's `csv` module"
   ]
  },
  {
   "cell_type": "code",
   "execution_count": null,
   "id": "ec1fa1b9",
   "metadata": {},
   "outputs": [
    {
     "data": {
      "text/plain": [
       "[['!', 'PUNCT'],\n",
       " ['#', 'SYM'],\n",
       " [\"''\", 'PUNCT'],\n",
       " [\"'d\", 'AUX'],\n",
       " [\"'ll\", 'AUX'],\n",
       " [\"'re\", 'AUX'],\n",
       " [\"'ve\", 'AUX'],\n",
       " [',', 'PUNCT'],\n",
       " ['--', 'PUNCT'],\n",
       " ['.', 'PUNCT'],\n",
       " ['.....', 'PUNCT'],\n",
       " ['0', 'NUM'],\n",
       " ['1,000', 'NUM'],\n",
       " ['1.5', 'NUM'],\n",
       " ['10', 'NUM'],\n",
       " ['10,000', 'NUM'],\n",
       " ['100', 'NUM'],\n",
       " ['100,000', 'NUM'],\n",
       " ['11', 'NUM'],\n",
       " ['11th', 'NOUN'],\n",
       " ['12', 'NUM'],\n",
       " ['120', 'NUM'],\n",
       " ['12th', 'NOUN'],\n",
       " ['13', 'NUM'],\n",
       " ['14', 'NUM'],\n",
       " ['15', 'NUM'],\n",
       " ['150', 'NUM'],\n",
       " ['16', 'NUM'],\n",
       " ['16th', 'PROPN'],\n",
       " ['17', 'NUM'],\n",
       " ['18', 'NUM'],\n",
       " ['18th', 'ADJ'],\n",
       " ['19', 'NUM'],\n",
       " ['1943', 'NUM'],\n",
       " ['1945', 'NUM'],\n",
       " ['1949', 'NUM'],\n",
       " ['1960s', 'NOUN'],\n",
       " ['1962', 'NUM'],\n",
       " ['1964', 'NUM'],\n",
       " ['1967', 'NUM'],\n",
       " ['1968', 'NUM'],\n",
       " ['1969', 'NUM'],\n",
       " ['1970', 'NUM'],\n",
       " ['1970s', 'NOUN'],\n",
       " ['1971', 'NUM'],\n",
       " ['1972', 'NUM'],\n",
       " ['1973', 'NUM'],\n",
       " ['1974', 'NUM'],\n",
       " ['1978', 'NUM'],\n",
       " ['1980', 'NUM'],\n",
       " ['1980s', 'NOUN'],\n",
       " ['1982', 'NUM'],\n",
       " ['1983', 'NUM'],\n",
       " ['1984', 'PROPN'],\n",
       " ['1986', 'NUM'],\n",
       " ['1987', 'NUM'],\n",
       " ['1989', 'NUM'],\n",
       " ['1990', 'NUM'],\n",
       " ['1990s', 'NOUN'],\n",
       " ['1991', 'NUM'],\n",
       " ['1993', 'NUM'],\n",
       " ['1995', 'NUM'],\n",
       " ['1996', 'NUM'],\n",
       " ['1997', 'NUM'],\n",
       " ['1998', 'NUM'],\n",
       " ['1999', 'NUM'],\n",
       " ['2,000', 'NUM'],\n",
       " ['2.5', 'NUM'],\n",
       " ['20,000', 'NUM'],\n",
       " ['200', 'NUM'],\n",
       " ['200,000', 'NUM'],\n",
       " ['2000', 'NUM'],\n",
       " ['2001', 'NUM'],\n",
       " ['2002', 'NUM'],\n",
       " ['2003', 'NUM'],\n",
       " ['2004', 'NUM'],\n",
       " ['2005', 'NUM'],\n",
       " ['2006', 'NUM'],\n",
       " ['2007', 'NUM'],\n",
       " ['2008', 'NUM'],\n",
       " ['2009', 'NUM'],\n",
       " ['2010', 'NUM'],\n",
       " ['2012', 'NUM'],\n",
       " ['21', 'NUM'],\n",
       " ['23', 'NUM'],\n",
       " ['25', 'NUM'],\n",
       " ['250', 'NUM'],\n",
       " ['26', 'NUM'],\n",
       " ['27', 'NUM'],\n",
       " ['28', 'NUM'],\n",
       " ['29', 'NUM'],\n",
       " ['3,000', 'NUM'],\n",
       " ['30', 'NUM'],\n",
       " ['300', 'NUM'],\n",
       " ['31', 'NUM'],\n",
       " ['32', 'NUM'],\n",
       " ['33', 'NUM'],\n",
       " ['34', 'NUM'],\n",
       " ['35', 'NUM'],\n",
       " ['36', 'NUM'],\n",
       " ['37', 'NUM'],\n",
       " ['39', 'NUM'],\n",
       " ['40', 'NUM'],\n",
       " ['400', 'NUM'],\n",
       " ['41', 'NUM'],\n",
       " ['42', 'NUM'],\n",
       " ['43', 'NUM'],\n",
       " ['44', 'NUM'],\n",
       " ['45', 'NUM'],\n",
       " ['46', 'NUM'],\n",
       " ['47', 'NUM'],\n",
       " ['48', 'NUM'],\n",
       " ['49', 'NUM'],\n",
       " ['5', 'NUM'],\n",
       " ['5,000', 'NUM'],\n",
       " ['50', 'NUM'],\n",
       " ['50,000', 'NUM'],\n",
       " ['51', 'NUM'],\n",
       " ['52', 'NUM'],\n",
       " ['53', 'NUM'],\n",
       " ['54', 'NUM'],\n",
       " ['55', 'NUM'],\n",
       " ['56', 'NUM'],\n",
       " ['57', 'NUM'],\n",
       " ['59', 'NUM'],\n",
       " ['6', 'NUM'],\n",
       " ['60', 'NUM'],\n",
       " ['600', 'NUM'],\n",
       " ['61', 'NUM'],\n",
       " ['62', 'NUM'],\n",
       " ['63', 'NUM'],\n",
       " ['65', 'NUM'],\n",
       " ['66', 'NUM'],\n",
       " ['67', 'NUM'],\n",
       " ['68', 'NUM'],\n",
       " ['69', 'NUM'],\n",
       " ['7', 'NUM'],\n",
       " ['70', 'NUM'],\n",
       " ['72', 'NUM'],\n",
       " ['75', 'NUM'],\n",
       " ['80', 'NUM'],\n",
       " ['800', 'NUM'],\n",
       " ['85', 'NUM'],\n",
       " ['9', 'NUM'],\n",
       " ['90', 'NUM'],\n",
       " ['95', 'NUM'],\n",
       " [':', 'PUNCT'],\n",
       " [';', 'PUNCT'],\n",
       " ['?', 'PUNCT'],\n",
       " ['[', 'PUNCT'],\n",
       " ['_', 'PUNCT'],\n",
       " ['`', 'PUNCT'],\n",
       " ['a.m.', 'NOUN'],\n",
       " ['abandoned', 'VERB'],\n",
       " ['ability', 'NOUN'],\n",
       " ['able', 'ADJ'],\n",
       " ['abroad', 'ADV'],\n",
       " ['absence', 'NOUN'],\n",
       " ['absolutely', 'ADV'],\n",
       " ['abuse', 'NOUN'],\n",
       " ['academic', 'ADJ'],\n",
       " ['accept', 'VERB'],\n",
       " ['accepted', 'VERB'],\n",
       " ['accident', 'NOUN'],\n",
       " ['accompanied', 'VERB'],\n",
       " ['accord', 'NOUN'],\n",
       " ['accounting', 'NOUN'],\n",
       " ['accounts', 'NOUN'],\n",
       " ['accused', 'VERB'],\n",
       " ['achieve', 'VERB'],\n",
       " ['achieved', 'VERB'],\n",
       " ['acknowledged', 'VERB'],\n",
       " ['acquired', 'VERB'],\n",
       " ['acquisition', 'NOUN'],\n",
       " ['acted', 'VERB'],\n",
       " ['acting', 'VERB'],\n",
       " ['action', 'NOUN'],\n",
       " ['actions', 'NOUN'],\n",
       " ['active', 'ADJ'],\n",
       " ['activist', 'NOUN'],\n",
       " ['activists', 'NOUN'],\n",
       " ['activities', 'NOUN'],\n",
       " ['activity', 'NOUN'],\n",
       " ['actress', 'NOUN'],\n",
       " ['actual', 'ADJ'],\n",
       " ['actually', 'ADV'],\n",
       " ['ad', 'NOUN'],\n",
       " ['add', 'VERB'],\n",
       " ['added', 'VERB'],\n",
       " ['adding', 'VERB'],\n",
       " ['addition', 'NOUN'],\n",
       " ['additional', 'ADJ'],\n",
       " ['addressed', 'VERB'],\n",
       " ['adds', 'VERB'],\n",
       " ['administration', 'NOUN'],\n",
       " ['administrative', 'ADJ'],\n",
       " ['admitted', 'VERB'],\n",
       " ['adopted', 'VERB'],\n",
       " ['ads', 'NOUN'],\n",
       " ['adults', 'NOUN'],\n",
       " ['advanced', 'ADJ'],\n",
       " ['advantage', 'NOUN'],\n",
       " ['advertising', 'NOUN'],\n",
       " ['advice', 'NOUN'],\n",
       " ['advisory', 'ADJ'],\n",
       " ['advocates', 'NOUN'],\n",
       " ['affair', 'NOUN'],\n",
       " ['affairs', 'NOUN'],\n",
       " ['affect', 'VERB'],\n",
       " ['afford', 'VERB'],\n",
       " ['afternoon', 'NOUN'],\n",
       " ['again', 'ADV'],\n",
       " ['age', 'NOUN'],\n",
       " ['aged', 'ADJ'],\n",
       " ['agencies', 'NOUN'],\n",
       " ['agency', 'NOUN'],\n",
       " ['agenda', 'NOUN'],\n",
       " ['agent', 'NOUN'],\n",
       " ['agents', 'NOUN'],\n",
       " ['ages', 'NOUN'],\n",
       " ['aggressive', 'ADJ'],\n",
       " ['ago', 'ADV'],\n",
       " ['agree', 'VERB'],\n",
       " ['agreed', 'VERB'],\n",
       " ['agreement', 'NOUN'],\n",
       " ['agreements', 'NOUN'],\n",
       " ['ah', 'INTJ'],\n",
       " ['aim', 'NOUN'],\n",
       " ['aimed', 'VERB'],\n",
       " ['aircraft', 'NOUN'],\n",
       " ['airline', 'NOUN'],\n",
       " ['airlines', 'PROPN'],\n",
       " ['airports', 'NOUN'],\n",
       " ['alert', 'NOUN'],\n",
       " ['alive', 'ADJ'],\n",
       " ['allegations', 'NOUN'],\n",
       " ['allegedly', 'ADV'],\n",
       " ['alliance', 'NOUN'],\n",
       " ['allies', 'NOUN'],\n",
       " ['allow', 'VERB'],\n",
       " ['allowed', 'VERB'],\n",
       " ['allowing', 'VERB'],\n",
       " ['allows', 'VERB'],\n",
       " ['almost', 'ADV'],\n",
       " ['already', 'ADV'],\n",
       " ['also', 'ADV'],\n",
       " ['although', 'SCONJ'],\n",
       " ['always', 'ADV'],\n",
       " ['ambassador', 'NOUN'],\n",
       " ['amendment', 'NOUN'],\n",
       " ['american', 'ADJ'],\n",
       " ['americans', 'PROPN'],\n",
       " ['among', 'ADP'],\n",
       " ['amounts', 'NOUN'],\n",
       " ['analysis', 'NOUN'],\n",
       " ['analyst', 'NOUN'],\n",
       " ['analysts', 'NOUN'],\n",
       " ['ancient', 'ADJ'],\n",
       " ['angeles', 'PROPN'],\n",
       " ['angry', 'ADJ'],\n",
       " ['animal', 'NOUN'],\n",
       " ['anniversary', 'NOUN'],\n",
       " ['announced', 'VERB'],\n",
       " ['announcement', 'NOUN'],\n",
       " ['annual', 'ADJ'],\n",
       " ['anti', 'X'],\n",
       " ['anybody', 'PRON'],\n",
       " ['anyone', 'PRON'],\n",
       " ['anything', 'PRON'],\n",
       " ['apart', 'ADV'],\n",
       " ['apartment', 'NOUN'],\n",
       " ['apparent', 'ADJ'],\n",
       " ['apparently', 'ADV'],\n",
       " ['appear', 'VERB'],\n",
       " ['appearance', 'NOUN'],\n",
       " ['appeared', 'VERB'],\n",
       " ['appears', 'VERB'],\n",
       " ['application', 'NOUN'],\n",
       " ['applications', 'NOUN'],\n",
       " ['applied', 'VERB'],\n",
       " ['apply', 'VERB'],\n",
       " ['appointed', 'VERB'],\n",
       " ['appointment', 'NOUN'],\n",
       " ['approached', 'VERB'],\n",
       " ['appropriate', 'ADJ'],\n",
       " ['approval', 'NOUN'],\n",
       " ['approve', 'VERB'],\n",
       " ['approved', 'VERB'],\n",
       " ['approximately', 'ADV'],\n",
       " ['area', 'NOUN'],\n",
       " ['areas', 'NOUN'],\n",
       " ['arena', 'NOUN'],\n",
       " ['argue', 'VERB'],\n",
       " ['argued', 'VERB'],\n",
       " ['arguing', 'VERB'],\n",
       " ['argument', 'NOUN'],\n",
       " ['arguments', 'NOUN'],\n",
       " ['arms', 'NOUN'],\n",
       " ['army', 'NOUN'],\n",
       " ['arranged', 'VERB'],\n",
       " ['arrested', 'VERB'],\n",
       " ['arrests', 'NOUN'],\n",
       " ['arrival', 'NOUN'],\n",
       " ['arrive', 'VERB'],\n",
       " ['arrived', 'VERB'],\n",
       " ['arriving', 'VERB'],\n",
       " ['article', 'NOUN'],\n",
       " ['articles', 'NOUN'],\n",
       " ['artillery', 'NOUN'],\n",
       " ['artist', 'NOUN'],\n",
       " ['artists', 'NOUN'],\n",
       " ['arts', 'NOUN'],\n",
       " ['asian', 'ADJ'],\n",
       " ['asked', 'VERB'],\n",
       " ['asking', 'VERB'],\n",
       " ['asks', 'VERB'],\n",
       " ['aspects', 'NOUN'],\n",
       " ['assassination', 'NOUN'],\n",
       " ['assault', 'NOUN'],\n",
       " ['assembly', 'NOUN'],\n",
       " ['assessment', 'NOUN'],\n",
       " ['asset', 'NOUN'],\n",
       " ['assets', 'NOUN'],\n",
       " ['assigned', 'VERB'],\n",
       " ['assist', 'VERB'],\n",
       " ['assistance', 'NOUN'],\n",
       " ['associates', 'NOUN'],\n",
       " ['association', 'NOUN'],\n",
       " ['assumed', 'VERB'],\n",
       " ['atmosphere', 'NOUN'],\n",
       " ['attacked', 'VERB'],\n",
       " ['attacking', 'VERB'],\n",
       " ['attempted', 'VERB'],\n",
       " ['attempting', 'VERB'],\n",
       " ['attempts', 'NOUN'],\n",
       " ['attend', 'VERB'],\n",
       " ['attended', 'VERB'],\n",
       " ['attending', 'VERB'],\n",
       " ['attention', 'NOUN'],\n",
       " ['attitude', 'NOUN'],\n",
       " ['attorney', 'NOUN'],\n",
       " ['attorneys', 'NOUN'],\n",
       " ['attract', 'VERB'],\n",
       " ['attracted', 'VERB'],\n",
       " ['attributed', 'VERB'],\n",
       " ['audience', 'NOUN'],\n",
       " ['author', 'NOUN'],\n",
       " ['authorities', 'NOUN'],\n",
       " ['authority', 'NOUN'],\n",
       " ['authorized', 'VERB'],\n",
       " ['automatic', 'ADJ'],\n",
       " ['autonomous', 'ADJ'],\n",
       " ['available', 'ADJ'],\n",
       " ['aviation', 'NOUN'],\n",
       " ['avoid', 'VERB'],\n",
       " ['award', 'NOUN'],\n",
       " ['awarded', 'VERB'],\n",
       " ['awards', 'NOUN'],\n",
       " ['aware', 'ADJ'],\n",
       " ['b.', 'VERB'],\n",
       " ['backed', 'VERB'],\n",
       " ['background', 'NOUN'],\n",
       " ['backing', 'VERB'],\n",
       " ['badly', 'ADV'],\n",
       " ['bag', 'NOUN'],\n",
       " ['baker', 'NOUN'],\n",
       " ['ball', 'NOUN'],\n",
       " ['ballot', 'NOUN'],\n",
       " ['balls', 'NOUN'],\n",
       " ['band', 'NOUN'],\n",
       " ['bands', 'NOUN'],\n",
       " ['bank', 'NOUN'],\n",
       " ['banking', 'NOUN'],\n",
       " ['bankruptcy', 'NOUN'],\n",
       " ['banks', 'NOUN'],\n",
       " ['banned', 'VERB'],\n",
       " ['barely', 'ADV'],\n",
       " ['barrel', 'NOUN'],\n",
       " ['barrels', 'NOUN'],\n",
       " ['bars', 'NOUN'],\n",
       " ['baseball', 'NOUN'],\n",
       " ['bases', 'NOUN'],\n",
       " ['basic', 'ADJ'],\n",
       " ['bass', 'NOUN'],\n",
       " ['bat', 'NOUN'],\n",
       " ['battles', 'VERB'],\n",
       " ['beach', 'NOUN'],\n",
       " ['beautiful', 'ADJ'],\n",
       " ['beauty', 'NOUN'],\n",
       " ['became', 'VERB'],\n",
       " ['become', 'VERB'],\n",
       " ['becomes', 'VERB'],\n",
       " ['becoming', 'VERB'],\n",
       " ['bed', 'NOUN'],\n",
       " ['beer', 'NOUN'],\n",
       " ['began', 'VERB'],\n",
       " ['begin', 'VERB'],\n",
       " ['begins', 'VERB'],\n",
       " ['begun', 'VERB'],\n",
       " ['behalf', 'NOUN'],\n",
       " ['behavior', 'NOUN'],\n",
       " ['belief', 'NOUN'],\n",
       " ['believe', 'VERB'],\n",
       " ['believed', 'VERB'],\n",
       " ['believes', 'VERB'],\n",
       " ['bell', 'NOUN'],\n",
       " ['bench', 'NOUN'],\n",
       " ['besides', 'ADP'],\n",
       " ['big', 'ADJ'],\n",
       " ['biggest', 'ADJ'],\n",
       " ['billion', 'NUM'],\n",
       " ['billions', 'NOUN'],\n",
       " ['bills', 'NOUN'],\n",
       " ['bin', 'PROPN'],\n",
       " ['biological', 'ADJ'],\n",
       " ['bird', 'NOUN'],\n",
       " ['birds', 'NOUN'],\n",
       " ['birth', 'NOUN'],\n",
       " ['birthday', 'NOUN'],\n",
       " ['bit', 'NOUN'],\n",
       " ['bitter', 'ADJ'],\n",
       " ['blocked', 'VERB'],\n",
       " ['blocks', 'NOUN'],\n",
       " ['blood', 'NOUN'],\n",
       " ['bloody', 'ADJ'],\n",
       " ['boats', 'NOUN'],\n",
       " ['bob', 'PROPN'],\n",
       " ['bodies', 'NOUN'],\n",
       " ['body', 'NOUN'],\n",
       " ['bomber', 'NOUN'],\n",
       " ['bombing', 'NOUN'],\n",
       " ['bombings', 'NOUN'],\n",
       " ['bombs', 'NOUN'],\n",
       " ['bond', 'NOUN'],\n",
       " ['books', 'NOUN'],\n",
       " ['boost', 'NOUN'],\n",
       " ['border', 'NOUN'],\n",
       " ['borders', 'NOUN'],\n",
       " ['born', 'VERB'],\n",
       " ['boss', 'NOUN'],\n",
       " ['bought', 'VERB'],\n",
       " ['bound', 'ADJ'],\n",
       " ['bowl', 'NOUN'],\n",
       " ['box', 'NOUN'],\n",
       " ['boy', 'NOUN'],\n",
       " ['brain', 'NOUN'],\n",
       " ['branch', 'NOUN'],\n",
       " ['branches', 'NOUN'],\n",
       " ['bridge', 'NOUN'],\n",
       " ['briefly', 'ADV'],\n",
       " ['brigade', 'NOUN'],\n",
       " ['bright', 'ADJ'],\n",
       " ['bring', 'VERB'],\n",
       " ['bringing', 'VERB'],\n",
       " ['brings', 'VERB'],\n",
       " ['broadcast', 'VERB'],\n",
       " ['broader', 'ADJ'],\n",
       " ['bronze', 'NOUN'],\n",
       " ['brother', 'NOUN'],\n",
       " ['brothers', 'NOUN'],\n",
       " ['brought', 'VERB'],\n",
       " ['budget', 'NOUN'],\n",
       " ['buildings', 'NOUN'],\n",
       " ['built', 'VERB'],\n",
       " ['bureau', 'NOUN'],\n",
       " ['burning', 'VERB'],\n",
       " ['burns', 'NOUN'],\n",
       " ['bus', 'NOUN'],\n",
       " ['buses', 'NOUN'],\n",
       " ['bush', 'PROPN'],\n",
       " ['business', 'NOUN'],\n",
       " ['businesses', 'NOUN'],\n",
       " ['busy', 'ADJ'],\n",
       " ['buyers', 'NOUN'],\n",
       " ['c.', 'NOUN'],\n",
       " ['ca', 'AUX'],\n",
       " ['cabinet', 'NOUN'],\n",
       " ['called', 'VERB'],\n",
       " ['came', 'VERB'],\n",
       " ['camera', 'NOUN'],\n",
       " ['cameras', 'NOUN'],\n",
       " ['campaign', 'NOUN'],\n",
       " ['camps', 'NOUN'],\n",
       " ['campus', 'NOUN'],\n",
       " ['canada', 'PROPN'],\n",
       " ['canadian', 'ADJ'],\n",
       " ['canal', 'NOUN'],\n",
       " ['cancer', 'NOUN'],\n",
       " ['candidate', 'NOUN'],\n",
       " ['candidates', 'NOUN'],\n",
       " ['cap', 'NOUN'],\n",
       " ['capable', 'ADJ'],\n",
       " ['capacity', 'NOUN'],\n",
       " ['captured', 'VERB'],\n",
       " ['car', 'NOUN'],\n",
       " ['carbon', 'NOUN'],\n",
       " ['card', 'NOUN'],\n",
       " ['cards', 'NOUN'],\n",
       " ['career', 'NOUN'],\n",
       " ['carefully', 'ADV'],\n",
       " ['cargo', 'NOUN'],\n",
       " ['carolina', 'PROPN'],\n",
       " ['carried', 'VERB'],\n",
       " ['carrier', 'NOUN'],\n",
       " ['carriers', 'NOUN'],\n",
       " ['carries', 'VERB'],\n",
       " ['carry', 'VERB'],\n",
       " ['carrying', 'VERB'],\n",
       " ['cases', 'NOUN'],\n",
       " ['cash', 'NOUN'],\n",
       " ['casualties', 'NOUN'],\n",
       " ['categories', 'NOUN'],\n",
       " ['category', 'NOUN'],\n",
       " ['cattle', 'NOUN'],\n",
       " ['caught', 'VERB'],\n",
       " ['caused', 'VERB'],\n",
       " ['causes', 'NOUN'],\n",
       " ['causing', 'VERB'],\n",
       " ['cd', 'PROPN'],\n",
       " ['cease', 'VERB'],\n",
       " ['ceasefire', 'NOUN'],\n",
       " ['celebration', 'NOUN'],\n",
       " ['cell', 'NOUN'],\n",
       " ['cells', 'NOUN'],\n",
       " ['center', 'NOUN'],\n",
       " ['centers', 'NOUN'],\n",
       " ['central', 'ADJ'],\n",
       " ['centre', 'NOUN'],\n",
       " ['cents', 'NOUN'],\n",
       " ['centuries', 'NOUN'],\n",
       " ['century', 'NOUN'],\n",
       " ['certain', 'ADJ'],\n",
       " ['certainly', 'ADV'],\n",
       " ['chain', 'NOUN'],\n",
       " ['chair', 'NOUN'],\n",
       " ['chairman', 'NOUN'],\n",
       " ['challenge', 'NOUN'],\n",
       " ['challenged', 'VERB'],\n",
       " ['challenges', 'NOUN'],\n",
       " ['chance', 'NOUN'],\n",
       " ['chances', 'NOUN'],\n",
       " ['changed', 'VERB'],\n",
       " ['channel', 'NOUN'],\n",
       " ['channels', 'NOUN'],\n",
       " ['chapter', 'NOUN'],\n",
       " ['character', 'NOUN'],\n",
       " ['characters', 'NOUN'],\n",
       " ['charged', 'VERB'],\n",
       " ['charity', 'NOUN'],\n",
       " ['chart', 'NOUN'],\n",
       " ['chase', 'NOUN'],\n",
       " ['chicken', 'NOUN'],\n",
       " ['child', 'NOUN'],\n",
       " ['childhood', 'NOUN'],\n",
       " ['children', 'NOUN'],\n",
       " ['chips', 'NOUN'],\n",
       " ['choose', 'VERB'],\n",
       " ['chose', 'VERB'],\n",
       " ['chosen', 'VERB'],\n",
       " ['christmas', 'PROPN'],\n",
       " ['church', 'NOUN'],\n",
       " ['circumstances', 'NOUN'],\n",
       " ['cited', 'VERB'],\n",
       " ['cities', 'NOUN'],\n",
       " ['citing', 'VERB'],\n",
       " ['citizen', 'NOUN'],\n",
       " ['citizens', 'NOUN'],\n",
       " ['city', 'NOUN'],\n",
       " ['civil', 'ADJ'],\n",
       " ['civilian', 'ADJ'],\n",
       " ['civilians', 'NOUN'],\n",
       " ['claimed', 'VERB'],\n",
       " ['claiming', 'VERB'],\n",
       " ['clash', 'VERB'],\n",
       " ['class', 'NOUN'],\n",
       " ['classes', 'NOUN'],\n",
       " ['classical', 'ADJ'],\n",
       " ['clay', 'NOUN'],\n",
       " ['cleared', 'VERB'],\n",
       " ['clearly', 'ADV'],\n",
       " ['client', 'NOUN'],\n",
       " ['clients', 'NOUN'],\n",
       " ['climate', 'NOUN'],\n",
       " ['clock', 'NOUN'],\n",
       " ['closely', 'ADV'],\n",
       " ['clothes', 'NOUN'],\n",
       " ['clothing', 'NOUN'],\n",
       " ['club', 'NOUN'],\n",
       " ['clubs', 'NOUN'],\n",
       " ['co', 'X'],\n",
       " ['co.', 'NOUN'],\n",
       " ['coach', 'NOUN'],\n",
       " ['coal', 'NOUN'],\n",
       " ['coalition', 'NOUN'],\n",
       " ['coast', 'NOUN'],\n",
       " ['code', 'NOUN'],\n",
       " ['coffee', 'NOUN'],\n",
       " ['collapsed', 'VERB'],\n",
       " ['colleagues', 'NOUN'],\n",
       " ['collected', 'VERB'],\n",
       " ['collection', 'NOUN'],\n",
       " ['college', 'NOUN'],\n",
       " ['colleges', 'NOUN'],\n",
       " ['colony', 'NOUN'],\n",
       " ['column', 'NOUN'],\n",
       " ['combination', 'NOUN'],\n",
       " ['combined', 'VERB'],\n",
       " ['come', 'VERB'],\n",
       " ['comedy', 'NOUN'],\n",
       " ['comes', 'VERB'],\n",
       " ['comfortable', 'ADJ'],\n",
       " ['comic', 'ADJ'],\n",
       " ['coming', 'VERB'],\n",
       " ['commander', 'NOUN'],\n",
       " ['commanders', 'NOUN'],\n",
       " ['commentary', 'NOUN'],\n",
       " ['comments', 'NOUN'],\n",
       " ['commission', 'NOUN'],\n",
       " ['commissioned', 'VERB'],\n",
       " ['commitment', 'NOUN'],\n",
       " ['committee', 'NOUN'],\n",
       " ['common', 'ADJ'],\n",
       " ['communication', 'NOUN'],\n",
       " ['communications', 'NOUN'],\n",
       " ['communist', 'ADJ'],\n",
       " ['communities', 'NOUN'],\n",
       " ['community', 'NOUN'],\n",
       " ['companies', 'NOUN'],\n",
       " ['company', 'NOUN'],\n",
       " ['compared', 'VERB'],\n",
       " ['compensation', 'NOUN'],\n",
       " ['compete', 'VERB'],\n",
       " ['competing', 'VERB'],\n",
       " ['competition', 'NOUN'],\n",
       " ['competitive', 'ADJ'],\n",
       " ['complained', 'VERB'],\n",
       " ['complaint', 'NOUN'],\n",
       " ['complaints', 'NOUN'],\n",
       " ['completed', 'VERB'],\n",
       " ['completely', 'ADV'],\n",
       " ['complicated', 'ADJ'],\n",
       " ['components', 'NOUN'],\n",
       " ['composed', 'VERB'],\n",
       " ['comprehensive', 'ADJ'],\n",
       " ['compromise', 'NOUN'],\n",
       " ['computer', 'NOUN'],\n",
       " ['computers', 'NOUN'],\n",
       " ['concept', 'NOUN'],\n",
       " ['concern', 'NOUN'],\n",
       " ['concerned', 'ADJ'],\n",
       " ['concerns', 'NOUN'],\n",
       " ['concert', 'NOUN'],\n",
       " ['concluded', 'VERB'],\n",
       " ['conclusion', 'NOUN'],\n",
       " ['conditions', 'NOUN'],\n",
       " ['conducted', 'VERB'],\n",
       " ['confidence', 'NOUN'],\n",
       " ['confident', 'ADJ'],\n",
       " ['confirmed', 'VERB'],\n",
       " ['conflict', 'NOUN'],\n",
       " ['connected', 'VERB'],\n",
       " ['connection', 'NOUN'],\n",
       " ['consensus', 'NOUN'],\n",
       " ['consequences', 'NOUN'],\n",
       " ['conservation', 'NOUN'],\n",
       " ['conservative', 'ADJ'],\n",
       " ['conservatives', 'NOUN'],\n",
       " ['consider', 'VERB'],\n",
       " ['considerable', 'ADJ'],\n",
       " ['considered', 'VERB'],\n",
       " ['considering', 'VERB'],\n",
       " ['consistent', 'ADJ'],\n",
       " ['consists', 'VERB'],\n",
       " ['conspiracy', 'NOUN'],\n",
       " ['constant', 'ADJ'],\n",
       " ['consumer', 'NOUN'],\n",
       " ['consumers', 'NOUN'],\n",
       " ['consumption', 'NOUN'],\n",
       " ['contacts', 'NOUN'],\n",
       " ['contain', 'VERB'],\n",
       " ['contained', 'VERB'],\n",
       " ['containing', 'VERB'],\n",
       " ['contains', 'VERB'],\n",
       " ['context', 'NOUN'],\n",
       " ['continent', 'NOUN'],\n",
       " ['continental', 'ADJ'],\n",
       " ['continue', 'VERB'],\n",
       " ['continued', 'VERB'],\n",
       " ['continues', 'VERB'],\n",
       " ['continuing', 'VERB'],\n",
       " ['contrast', 'NOUN'],\n",
       " ['contribute', 'VERB'],\n",
       " ['contributed', 'VERB'],\n",
       " ['contribution', 'NOUN'],\n",
       " ['contributions', 'NOUN'],\n",
       " ['controlled', 'VERB'],\n",
       " ['controls', 'NOUN'],\n",
       " ['controversial', 'ADJ'],\n",
       " ['controversy', 'NOUN'],\n",
       " ['convention', 'NOUN'],\n",
       " ['conventional', 'ADJ'],\n",
       " ['conversation', 'NOUN'],\n",
       " ['converted', 'ADJ'],\n",
       " ['convicted', 'VERB'],\n",
       " ['conviction', 'NOUN'],\n",
       " ['convinced', 'ADJ'],\n",
       " ['cook', 'VERB'],\n",
       " ['cooperate', 'VERB'],\n",
       " ['cooperation', 'NOUN'],\n",
       " ['copies', 'NOUN'],\n",
       " ['copyright', 'NOUN'],\n",
       " ['corn', 'NOUN'],\n",
       " ['corner', 'NOUN'],\n",
       " ['corporate', 'ADJ'],\n",
       " ['corporation', 'NOUN'],\n",
       " ['corps', 'NOUN'],\n",
       " ['could', 'AUX'],\n",
       " ['council', 'NOUN'],\n",
       " ['counsel', 'NOUN'],\n",
       " ['counties', 'NOUN'],\n",
       " ['countries', 'NOUN'],\n",
       " ['country', 'NOUN'],\n",
       " ['counts', 'NOUN'],\n",
       " ['county', 'NOUN'],\n",
       " ['coup', 'NOUN'],\n",
       " ['couple', 'NOUN'],\n",
       " ['couples', 'NOUN'],\n",
       " ['course', 'NOUN'],\n",
       " ['courses', 'NOUN'],\n",
       " ['courts', 'NOUN'],\n",
       " ['coverage', 'NOUN'],\n",
       " ['covering', 'VERB'],\n",
       " ['crackdown', 'NOUN'],\n",
       " ['create', 'VERB'],\n",
       " ['created', 'VERB'],\n",
       " ['creating', 'VERB'],\n",
       " ['creation', 'NOUN'],\n",
       " ['creative', 'ADJ'],\n",
       " ['crew', 'NOUN'],\n",
       " ['crime', 'NOUN'],\n",
       " ['crimes', 'NOUN'],\n",
       " ['crisis', 'NOUN'],\n",
       " ['critic', 'NOUN'],\n",
       " ['critical', 'ADJ'],\n",
       " ['criticism', 'NOUN'],\n",
       " ['criticized', 'VERB'],\n",
       " ['critics', 'NOUN'],\n",
       " ['crossed', 'VERB'],\n",
       " ['crowd', 'NOUN'],\n",
       " ['crucial', 'ADJ'],\n",
       " ['cruise', 'NOUN'],\n",
       " ['cuban', 'ADJ'],\n",
       " ['cultural', 'ADJ'],\n",
       " ['culture', 'NOUN'],\n",
       " ['cup', 'NOUN'],\n",
       " ['currency', 'NOUN'],\n",
       " ['currently', 'ADV'],\n",
       " ['custody', 'NOUN'],\n",
       " ['customer', 'NOUN'],\n",
       " ['customers', 'NOUN'],\n",
       " ['customs', 'NOUN'],\n",
       " ['cycle', 'NOUN'],\n",
       " ['damage', 'NOUN'],\n",
       " ['damaged', 'VERB'],\n",
       " ['dance', 'NOUN'],\n",
       " ['danger', 'NOUN'],\n",
       " ['dangerous', 'ADJ'],\n",
       " ['data', 'NOUN'],\n",
       " ['date', 'NOUN'],\n",
       " ['daughter', 'NOUN'],\n",
       " ['daughters', 'NOUN'],\n",
       " ['days', 'NOUN'],\n",
       " ['dead', 'ADJ'],\n",
       " ['deadline', 'NOUN'],\n",
       " ['deadly', 'ADJ'],\n",
       " ['dealers', 'NOUN'],\n",
       " ['dealing', 'VERB'],\n",
       " ['dean', 'NOUN'],\n",
       " ['death', 'NOUN'],\n",
       " ['deaths', 'NOUN'],\n",
       " ['debate', 'NOUN'],\n",
       " ['debt', 'NOUN'],\n",
       " ['decade', 'NOUN'],\n",
       " ['decades', 'NOUN'],\n",
       " ['decide', 'VERB'],\n",
       " ['decision', 'NOUN'],\n",
       " ['decisions', 'NOUN'],\n",
       " ['declaration', 'NOUN'],\n",
       " ['declared', 'VERB'],\n",
       " ['declined', 'VERB'],\n",
       " ['dedicated', 'ADJ'],\n",
       " ['deeply', 'ADV'],\n",
       " ['def', 'ADV'],\n",
       " ['defeated', 'VERB'],\n",
       " ['defence', 'NOUN'],\n",
       " ['defend', 'VERB'],\n",
       " ['defendants', 'NOUN'],\n",
       " ['defended', 'VERB'],\n",
       " ['defending', 'VERB'],\n",
       " ['defense', 'NOUN'],\n",
       " ['defensive', 'ADJ'],\n",
       " ['deficit', 'NOUN'],\n",
       " ['defined', 'VERB'],\n",
       " ['definitely', 'ADV'],\n",
       " ['definition', 'NOUN'],\n",
       " ['degree', 'NOUN'],\n",
       " ['del', 'X'],\n",
       " ['delegation', 'NOUN'],\n",
       " ['delhi', 'PROPN'],\n",
       " ['deliver', 'VERB'],\n",
       " ['delivered', 'VERB'],\n",
       " ['delivery', 'NOUN'],\n",
       " ['demanded', 'VERB'],\n",
       " ['demanding', 'VERB'],\n",
       " ['demands', 'NOUN'],\n",
       " ['democracy', 'NOUN'],\n",
       " ['democrat', 'PROPN'],\n",
       " ['democratic', 'ADJ'],\n",
       " ['democrats', 'PROPN'],\n",
       " ['demonstration', 'NOUN'],\n",
       " ['demonstrations', 'NOUN'],\n",
       " ['denied', 'VERB'],\n",
       " ['department', 'NOUN'],\n",
       " ['departments', 'NOUN'],\n",
       " ['departure', 'NOUN'],\n",
       " ['depending', 'VERB'],\n",
       " ['deployed', 'VERB'],\n",
       " ['depth', 'NOUN'],\n",
       " ['deputy', 'NOUN'],\n",
       " ['describe', 'VERB'],\n",
       " ['described', 'VERB'],\n",
       " ['description', 'NOUN'],\n",
       " ['desert', 'VERB'],\n",
       " ['designated', 'VERB'],\n",
       " ['designed', 'VERB'],\n",
       " ['designer', 'NOUN'],\n",
       " ['desire', 'NOUN'],\n",
       " ['destroy', 'VERB'],\n",
       " ['destroyed', 'VERB'],\n",
       " ['destruction', 'NOUN'],\n",
       " ['detail', 'NOUN'],\n",
       " ['detailed', 'ADJ'],\n",
       " ['detained', 'VERB'],\n",
       " ['detainees', 'NOUN'],\n",
       " ['detention', 'NOUN'],\n",
       " ['determine', 'VERB'],\n",
       " ['develop', 'VERB'],\n",
       " ['developed', 'VERB'],\n",
       " ['developing', 'VERB'],\n",
       " ['development', 'NOUN'],\n",
       " ['developments', 'NOUN'],\n",
       " ['device', 'NOUN'],\n",
       " ['devices', 'NOUN'],\n",
       " ['di', 'NOUN'],\n",
       " ['die', 'VERB'],\n",
       " ['died', 'VERB'],\n",
       " ['difference', 'NOUN'],\n",
       " ['differences', 'NOUN'],\n",
       " ['difficult', 'ADJ'],\n",
       " ['difficulties', 'NOUN'],\n",
       " ['digital', 'ADJ'],\n",
       " ['dinner', 'NOUN'],\n",
       " ['diplomat', 'NOUN'],\n",
       " ['diplomatic', 'ADJ'],\n",
       " ['diplomats', 'NOUN'],\n",
       " ['directed', 'VERB'],\n",
       " ['direction', 'NOUN'],\n",
       " ['directly', 'ADV'],\n",
       " ['director', 'NOUN'],\n",
       " ['disaster', 'NOUN'],\n",
       " ['discovered', 'VERB'],\n",
       " ['discovery', 'NOUN'],\n",
       " ['discrimination', 'NOUN'],\n",
       " ['discuss', 'VERB'],\n",
       " ['discussed', 'VERB'],\n",
       " ['discussion', 'NOUN'],\n",
       " ['discussions', 'NOUN'],\n",
       " ['disease', 'NOUN'],\n",
       " ['diseases', 'NOUN'],\n",
       " ['dismissed', 'VERB'],\n",
       " ['display', 'NOUN'],\n",
       " ['dispute', 'NOUN'],\n",
       " ['disputes', 'NOUN'],\n",
       " ['distance', 'NOUN'],\n",
       " ['distributed', 'VERB'],\n",
       " ['distribution', 'NOUN'],\n",
       " ['district', 'NOUN'],\n",
       " ['districts', 'NOUN'],\n",
       " ['division', 'NOUN'],\n",
       " ['divisions', 'NOUN'],\n",
       " ['doctor', 'NOUN'],\n",
       " ['document', 'NOUN'],\n",
       " ['documents', 'NOUN'],\n",
       " ['dog', 'NOUN'],\n",
       " ['doing', 'VERB'],\n",
       " ['dollar', 'NOUN'],\n",
       " ['dollars', 'NOUN'],\n",
       " ['dominant', 'ADJ'],\n",
       " ['dominated', 'VERB'],\n",
       " ['door', 'NOUN'],\n",
       " ['doors', 'NOUN'],\n",
       " ['dozen', 'NOUN'],\n",
       " ['dozens', 'NOUN'],\n",
       " ['drama', 'NOUN'],\n",
       " ['drawn', 'VERB'],\n",
       " ['dream', 'NOUN'],\n",
       " ['dressed', 'VERB'],\n",
       " ['drew', 'VERB'],\n",
       " ['driven', 'VERB'],\n",
       " ['driver', 'NOUN'],\n",
       " ['dropped', 'VERB'],\n",
       " ['drove', 'VERB'],\n",
       " ['drug', 'NOUN'],\n",
       " ['drugs', 'NOUN'],\n",
       " ['duties', 'NOUN'],\n",
       " ['duty', 'NOUN'],\n",
       " ['dvd', 'NOUN'],\n",
       " ['each', 'DET'],\n",
       " ['earn', 'VERB'],\n",
       " ['earned', 'VERB'],\n",
       " ['earthquake', 'NOUN'],\n",
       " ['ease', 'NOUN'],\n",
       " ['easily', 'ADV'],\n",
       " ['eastern', 'ADJ'],\n",
       " ['easy', 'ADJ'],\n",
       " ['eat', 'VERB'],\n",
       " ['economic', 'ADJ'],\n",
       " ['economics', 'NOUN'],\n",
       " ['economists', 'NOUN'],\n",
       " ['economy', 'NOUN'],\n",
       " ['ed', 'NOUN'],\n",
       " ['edge', 'NOUN'],\n",
       " ['editor', 'NOUN'],\n",
       " ['editorial', 'NOUN'],\n",
       " ['education', 'NOUN'],\n",
       " ['educational', 'ADJ'],\n",
       " ['effect', 'NOUN'],\n",
       " ['effective', 'ADJ'],\n",
       " ['effectively', 'ADV'],\n",
       " ['effects', 'NOUN'],\n",
       " ['efficient', 'ADJ'],\n",
       " ['effort', 'NOUN'],\n",
       " ['efforts', 'NOUN'],\n",
       " ['eight', 'NUM'],\n",
       " ['elected', 'VERB'],\n",
       " ['elections', 'NOUN'],\n",
       " ['electoral', 'ADJ'],\n",
       " ['electrical', 'ADJ'],\n",
       " ['electricity', 'NOUN'],\n",
       " ['electronic', 'ADJ'],\n",
       " ['element', 'NOUN'],\n",
       " ['elementary', 'ADJ'],\n",
       " ['elements', 'NOUN'],\n",
       " ['eligible', 'ADJ'],\n",
       " ['eliminate', 'VERB'],\n",
       " ['eliminated', 'VERB'],\n",
       " ['elite', 'ADJ'],\n",
       " ['elsewhere', 'ADV'],\n",
       " ['embassy', 'NOUN'],\n",
       " ['emerged', 'VERB'],\n",
       " ['emergency', 'NOUN'],\n",
       " ['emerging', 'VERB'],\n",
       " ['emissions', 'NOUN'],\n",
       " ['emotional', 'ADJ'],\n",
       " ['emperor', 'NOUN'],\n",
       " ['employed', 'VERB'],\n",
       " ['employee', 'NOUN'],\n",
       " ['employees', 'NOUN'],\n",
       " ['employment', 'NOUN'],\n",
       " ['empty', 'ADJ'],\n",
       " ['encourage', 'VERB'],\n",
       " ['encouraged', 'VERB'],\n",
       " ['encouraging', 'VERB'],\n",
       " ['ending', 'VERB'],\n",
       " ['energy', 'NOUN'],\n",
       " ['enforcement', 'NOUN'],\n",
       " ['engaged', 'VERB'],\n",
       " ['engine', 'NOUN'],\n",
       " ['engineer', 'NOUN'],\n",
       " ['engineering', 'NOUN'],\n",
       " ['engineers', 'NOUN'],\n",
       " ['english', 'ADJ'],\n",
       " ['enjoy', 'VERB'],\n",
       " ['enjoyed', 'VERB'],\n",
       " ['enormous', 'ADJ'],\n",
       " ['ensure', 'VERB'],\n",
       " ['enter', 'VERB'],\n",
       " ['enterprise', 'NOUN'],\n",
       " ['enterprises', 'NOUN'],\n",
       " ['entertainment', 'NOUN'],\n",
       " ['entirely', 'ADV'],\n",
       " ['entitled', 'VERB'],\n",
       " ['entrance', 'NOUN'],\n",
       " ['entry', 'NOUN'],\n",
       " ['environment', 'NOUN'],\n",
       " ['environmental', 'ADJ'],\n",
       " ['envoy', 'NOUN'],\n",
       " ['episode', 'NOUN'],\n",
       " ['equipment', 'NOUN'],\n",
       " ['equipped', 'VERB'],\n",
       " ...]"
      ]
     },
     "metadata": {},
     "output_type": "display_data"
    }
   ],
   "source": [
    "unambig_pos_tags"
   ]
  },
  {
   "cell_type": "markdown",
   "id": "868d3201",
   "metadata": {},
   "source": [
    "- to explore high-dim embeddings of these words,\n",
    "\n",
    "    we must perform dim reduction, use t-SNE, \n",
    "    \n",
    "    important point: nearby points in low-dim space that t-SEN produces will correspond to nearby points in high-dim space,\n",
    "    \n",
    "    i.e., embedding is roughly isometric"
   ]
  },
  {
   "cell_type": "markdown",
   "id": "3f39b98f",
   "metadata": {},
   "source": [
    "- to create t-SNE embeddings, look up the embedding correspond to words in `unambig_pos_tags` list you just created\n",
    "\n",
    "\n",
    "- given an embedding matrix `embeddings`, you can just do this for the first 1000 embeddings\n",
    "\n",
    "    and produce a 2D plot\n",
    "\n",
    "    reason: perform t-SNE for large sets is computationally expensive "
   ]
  },
  {
   "cell_type": "markdown",
   "id": "b421910a",
   "metadata": {},
   "source": [
    "## problem 17"
   ]
  },
  {
   "cell_type": "markdown",
   "id": "c34c3229",
   "metadata": {},
   "source": [
    "### question 1\n",
    "\n",
    "1. initialize a `MultiLayerPerceptron` model without loading pre-trained GloVe embeddings \n",
    "\n",
    "    and create t-SNE plots for the model's randomly initialized embeddings\n",
    "    \n",
    "\n",
    "2. train the model until it reaches >= 75% accuracy,\n",
    "\n",
    "    create t-SNE plots for model's trained word embeddings\n",
    "    \n",
    "    \n",
    "- How does these plots compare?\n",
    "\n",
    "\n",
    "- What does this tell us about the info encoded in net's word embeddings pre- and post-training?\n",
    "\n",
    "\n"
   ]
  },
  {
   "cell_type": "markdown",
   "id": "dd8b596d",
   "metadata": {},
   "source": [
    "### question 2\n",
    "\n",
    "- create a t-SNE plot for pre-trained GloVe or word2vec embeddings,\n",
    "\n",
    "    loaded from `glove_embeddings.txt` or `word2vec_embeddings.txt` file from HW1, that haven't undergone any POS-tag training\n",
    "    \n",
    "\n",
    "- what can you conclude about the degree to which pre-trained embeddings encode info about POS?\n",
    "\n",
    "    given your knowledge of word2vec\n",
    "    \n",
    "    assume GloVe is also based on distributional semantics\n",
    "    \n",
    "- is this what you would expect? why?\n",
    "    \n",
    "    "
   ]
  },
  {
   "cell_type": "markdown",
   "id": "317399a8",
   "metadata": {},
   "source": [
    "### answer"
   ]
  },
  {
   "cell_type": "markdown",
   "id": "3b6442f5",
   "metadata": {},
   "source": [
    "- Test accuracy 76.4%\n",
    "\n",
    "\n",
    "- How does these plots compare?\n",
    "\n",
    "    The t-SNE plots for the trained word embeddings of the model with and without pretrained GloVe embeddings both do a good job of clustering the words with same POS tags together: a large gray cluster for NOUN tag, a median size brown cluster for VERB tag, a small green cluster for PUNCT tag or ADV tag, a small yellow-green cluster for NUM tag, though there are several sparse orange points tagged PROPN or ADP distributed in the NOUN cluster.\n",
    "\n",
    "\n",
    "- What does this tell us about the info encoded in net's word embeddings pre- and post-training?\n",
    "\n",
    "    The info encoded in net's word embeddings pre- and post-training is focused on the POS tagging of words because words with same POS tags clustered together.\n",
    "\n",
    "\n",
    "- what can you conclude about the degree to which pre-trained embeddings encode info about POS?\n",
    "\n",
    "    The t-SNE plot for pre-trained word embeddings of GloVe has no obvious clusters of tags with randomly distributed points.\n",
    "\n",
    "\n",
    "- Is this what you would expect? why?\n",
    "\n",
    "    Yes, because distributional semantics believes that the meaning of a word can be inferred from its usage - its distribution in text, i.e., words with similar distributions have similar meanings, so they should cluster together. But the words with similar meanings may not have same POS tags, so when the embeddings are colored by tags, they seem to be randomly distributed points."
   ]
  },
  {
   "cell_type": "code",
   "execution_count": null,
   "id": "cf268779",
   "metadata": {},
   "outputs": [
    {
     "name": "stdout",
     "output_type": "stream",
     "text": [
      "/Users/wenxinxu/Desktop/LING780/homework/hw 2 n-Gram Part of Speech Tagger/Archive\n"
     ]
    }
   ],
   "source": [
    "!pwd "
   ]
  },
  {
   "cell_type": "code",
   "execution_count": null,
   "id": "51798341",
   "metadata": {},
   "outputs": [],
   "source": [
    "from data_loader import load_embeddings, all_pos_tags, Vocabulary\n",
    "from sklearn.manifold import TSNE\n",
    "from model import MultiLayerPerceptron\n",
    "import matplotlib.pyplot as plt\n",
    "import csv \n",
    "import pickle\n",
    "import warnings  "
   ]
  },
  {
   "cell_type": "code",
   "execution_count": null,
   "id": "c5eddd9e",
   "metadata": {},
   "outputs": [],
   "source": [
    "# Hyperparameters\n",
    "ngram_len = 3\n",
    "hidden_size = 16  \n",
    "num_layers = 1\n",
    "\n",
    "# Load embeddings and vocab\n",
    "all_tokens, glove_embeddings = load_embeddings(filename = \"data/glove_embeddings.txt\")\n",
    "\n",
    "# Only use 5,000 most common embeddings\n",
    "all_tokens = all_tokens[:5000]  # length 5000\n",
    "glove_embeddings = glove_embeddings[:5000]  # (5000, 100)\n",
    "\n",
    "# create vocabularies\n",
    "token_vocab = Vocabulary(all_tokens + [\"[UNK]\", \"[BOS]\", \"[EOS]\"])\n",
    "pos_tag_vocab = Vocabulary(all_pos_tags)\n",
    "\n",
    "# open a csv file for reading\n",
    "with open(\"data/unambiguous_pos_tags.csv\", \"r\") as f: \n",
    "    # convert CSV file to a list, remove header row\n",
    "    unambig_pos_tags = list(csv.reader(f))[1:]"
   ]
  },
  {
   "cell_type": "code",
   "execution_count": null,
   "id": "7c0ca52e",
   "metadata": {},
   "outputs": [],
   "source": [
    "# initialize models\n",
    "glove_model = MultiLayerPerceptron(len(token_vocab), len(pos_tag_vocab),\n",
    "                                ngram_len, glove_embeddings.shape[-1],\n",
    "                                hidden_size, num_layers)\n",
    "\n",
    "random_model = MultiLayerPerceptron(len(token_vocab), len(pos_tag_vocab),\n",
    "                                ngram_len, 100,\n",
    "                                hidden_size, num_layers)\n",
    "# extract untrained embeddings\n",
    "untrained_glove = glove_model.embedding_layer.params['embeddings']\n",
    "untrained_random = random_model.embedding_layer.params['embeddings']\n",
    "\n",
    "# load trained model\n",
    "with open(\"./checkpoint/checkpoint1.p\", \"rb\") as f:\n",
    "        glove_model = pickle.load(f)\n",
    "with open(\"./checkpoint/checkpoint2.p\", \"rb\") as f:\n",
    "        random_model = pickle.load(f)\n",
    "\n",
    "# extract trained embeddings\n",
    "trained_glove = glove_model.embedding_layer.params['embeddings']\n",
    "trained_random = random_model.embedding_layer.params['embeddings']"
   ]
  },
  {
   "cell_type": "code",
   "execution_count": null,
   "id": "242ed153",
   "metadata": {},
   "outputs": [
    {
     "data": {
      "image/png": "[encoded data removed]",
      "text/plain": [
       "<Figure size 576x648 with 4 Axes>"
      ]
     },
     "metadata": {},
     "output_type": "display_data"
    }
   ],
   "source": [
    "embeddings = [untrained_glove, untrained_random, trained_glove, trained_random]\n",
    "titles = ['untrained_glove', 'untrained_random', 'trained_glove', 'trained_random']\n",
    "fig, axes = plt.subplots(2, 2, figsize=(8, 9))\n",
    "\n",
    "for ax, embed, title in zip(axes.flatten(), embeddings, titles):\n",
    "    embed = embed[:1000]\n",
    "    # Suppress warnings of t-SNE \n",
    "    with warnings.catch_warnings():\n",
    "        warnings.simplefilter(\"ignore\")\n",
    "        tsne_embeddings = TSNE(n_components=2).fit_transform(embed)\n",
    "\n",
    "    for pos in pos_tag_vocab.forms:\n",
    "        # get indices for all words whose POS tag is unambiguous\n",
    "        indices = [token_vocab.get_index(w) for w, p in unambig_pos_tags if p == pos] \n",
    "        # remove indices outside of the first 1,000 words\n",
    "        indices = [i for i in indices if i < 1000]\n",
    "        # add points for these indices to the plot, assign a unique color to this POS tag\n",
    "        ax.plot(tsne_embeddings[indices, 0], tsne_embeddings[indices, 1],\n",
    "                marker=\".\",linestyle=\"\",markersize=2, label=pos) \n",
    "    ax.set_title(title)\n",
    "    ax.set_xlabel('t-SNE 1')\n",
    "    ax.set_ylabel('t-SNE 2')\n",
    "\n",
    "plt.legend(loc=\"best\", bbox_to_anchor=(1.5, 1.5))\n",
    "plt.suptitle(\"Word embeddings colored by POS tag\")\n",
    "plt.show() "
   ]
  }
 ],
 "metadata": {
  "hide_input": false,
  "kernelspec": {
   "display_name": "Python 3",
   "language": "python",
   "name": "python3"
  },
  "language_info": {
   "codemirror_mode": {
    "name": "ipython",
    "version": 3
   },
   "file_extension": ".py",
   "mimetype": "text/x-python",
   "name": "python",
   "nbconvert_exporter": "python",
   "pygments_lexer": "ipython3",
   "version": "3.8.10"
  },
  "toc": {
   "base_numbering": 1,
   "nav_menu": {},
   "number_sections": true,
   "sideBar": true,
   "skip_h1_title": false,
   "title_cell": "Table of Contents",
   "title_sidebar": "Contents",
   "toc_cell": false,
   "toc_position": {
    "height": "calc(100% - 180px)",
    "left": "10px",
    "top": "150px",
    "width": "164.8px"
   },
   "toc_section_display": true,
   "toc_window_display": true
  },
  "varInspector": {
   "cols": {
    "lenName": 16,
    "lenType": 16,
    "lenVar": 40
   },
   "kernels_config": {
    "python": {
     "delete_cmd_postfix": "",
     "delete_cmd_prefix": "del ",
     "library": "var_list.py",
     "varRefreshCmd": "print(var_dic_list())"
    },
    "r": {
     "delete_cmd_postfix": ") ",
     "delete_cmd_prefix": "rm(",
     "library": "var_list.r",
     "varRefreshCmd": "cat(var_dic_list()) "
    }
   },
   "types_to_exclude": [
    "module",
    "function",
    "builtin_function_or_method",
    "instance",
    "_Feature"
   ],
   "window_display": false
  }
 },
 "nbformat": 4,
 "nbformat_minor": 5
}
